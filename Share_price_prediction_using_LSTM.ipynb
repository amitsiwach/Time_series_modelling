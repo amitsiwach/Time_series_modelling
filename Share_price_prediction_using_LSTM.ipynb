{
  "cells": [
    {
      "cell_type": "code",
      "execution_count": null,
      "id": "339564fc",
      "metadata": {
        "id": "339564fc"
      },
      "outputs": [],
      "source": [
        "import yfinance as yf\n",
        "import numpy as np\n",
        "import pandas as pd\n",
        "import tensorflow as tf\n",
        "import matplotlib.pyplot as plt\n",
        "import plotly.graph_objects as go\n",
        "import plotly.express as px"
      ]
    },
    {
      "cell_type": "code",
      "execution_count": null,
      "id": "54cede73",
      "metadata": {
        "colab": {
          "base_uri": "https://localhost:8080/",
          "height": 255
        },
        "id": "54cede73",
        "outputId": "1659cd97-4c97-4f80-beb4-39bfb22034bd"
      },
      "outputs": [
        {
          "output_type": "stream",
          "name": "stdout",
          "text": [
            "\r[*********************100%***********************]  1 of 1 completed\n"
          ]
        },
        {
          "output_type": "execute_result",
          "data": {
            "text/plain": [
              "                                Open       High        Low      Close  \\\n",
              "Date                                                                    \n",
              "2019-01-02 00:00:00-05:00  51.360001  53.039501  51.264000  52.734001   \n",
              "2019-01-03 00:00:00-05:00  52.533501  53.313000  51.118500  51.273499   \n",
              "2019-01-04 00:00:00-05:00  52.127998  54.000000  51.842999  53.903500   \n",
              "2019-01-07 00:00:00-05:00  54.048500  54.134998  53.132000  53.796001   \n",
              "2019-01-08 00:00:00-05:00  54.299999  54.667500  53.417500  54.268501   \n",
              "\n",
              "                           Adj Close    Volume  \n",
              "Date                                            \n",
              "2019-01-02 00:00:00-05:00  52.734001  31868000  \n",
              "2019-01-03 00:00:00-05:00  51.273499  41960000  \n",
              "2019-01-04 00:00:00-05:00  53.903500  46022000  \n",
              "2019-01-07 00:00:00-05:00  53.796001  47446000  \n",
              "2019-01-08 00:00:00-05:00  54.268501  35414000  "
            ],
            "text/html": [
              "\n",
              "  <div id=\"df-2ea6cb86-4447-4099-985c-058dee0147f7\">\n",
              "    <div class=\"colab-df-container\">\n",
              "      <div>\n",
              "<style scoped>\n",
              "    .dataframe tbody tr th:only-of-type {\n",
              "        vertical-align: middle;\n",
              "    }\n",
              "\n",
              "    .dataframe tbody tr th {\n",
              "        vertical-align: top;\n",
              "    }\n",
              "\n",
              "    .dataframe thead th {\n",
              "        text-align: right;\n",
              "    }\n",
              "</style>\n",
              "<table border=\"1\" class=\"dataframe\">\n",
              "  <thead>\n",
              "    <tr style=\"text-align: right;\">\n",
              "      <th></th>\n",
              "      <th>Open</th>\n",
              "      <th>High</th>\n",
              "      <th>Low</th>\n",
              "      <th>Close</th>\n",
              "      <th>Adj Close</th>\n",
              "      <th>Volume</th>\n",
              "    </tr>\n",
              "    <tr>\n",
              "      <th>Date</th>\n",
              "      <th></th>\n",
              "      <th></th>\n",
              "      <th></th>\n",
              "      <th></th>\n",
              "      <th></th>\n",
              "      <th></th>\n",
              "    </tr>\n",
              "  </thead>\n",
              "  <tbody>\n",
              "    <tr>\n",
              "      <th>2019-01-02 00:00:00-05:00</th>\n",
              "      <td>51.360001</td>\n",
              "      <td>53.039501</td>\n",
              "      <td>51.264000</td>\n",
              "      <td>52.734001</td>\n",
              "      <td>52.734001</td>\n",
              "      <td>31868000</td>\n",
              "    </tr>\n",
              "    <tr>\n",
              "      <th>2019-01-03 00:00:00-05:00</th>\n",
              "      <td>52.533501</td>\n",
              "      <td>53.313000</td>\n",
              "      <td>51.118500</td>\n",
              "      <td>51.273499</td>\n",
              "      <td>51.273499</td>\n",
              "      <td>41960000</td>\n",
              "    </tr>\n",
              "    <tr>\n",
              "      <th>2019-01-04 00:00:00-05:00</th>\n",
              "      <td>52.127998</td>\n",
              "      <td>54.000000</td>\n",
              "      <td>51.842999</td>\n",
              "      <td>53.903500</td>\n",
              "      <td>53.903500</td>\n",
              "      <td>46022000</td>\n",
              "    </tr>\n",
              "    <tr>\n",
              "      <th>2019-01-07 00:00:00-05:00</th>\n",
              "      <td>54.048500</td>\n",
              "      <td>54.134998</td>\n",
              "      <td>53.132000</td>\n",
              "      <td>53.796001</td>\n",
              "      <td>53.796001</td>\n",
              "      <td>47446000</td>\n",
              "    </tr>\n",
              "    <tr>\n",
              "      <th>2019-01-08 00:00:00-05:00</th>\n",
              "      <td>54.299999</td>\n",
              "      <td>54.667500</td>\n",
              "      <td>53.417500</td>\n",
              "      <td>54.268501</td>\n",
              "      <td>54.268501</td>\n",
              "      <td>35414000</td>\n",
              "    </tr>\n",
              "  </tbody>\n",
              "</table>\n",
              "</div>\n",
              "      <button class=\"colab-df-convert\" onclick=\"convertToInteractive('df-2ea6cb86-4447-4099-985c-058dee0147f7')\"\n",
              "              title=\"Convert this dataframe to an interactive table.\"\n",
              "              style=\"display:none;\">\n",
              "        \n",
              "  <svg xmlns=\"http://www.w3.org/2000/svg\" height=\"24px\"viewBox=\"0 0 24 24\"\n",
              "       width=\"24px\">\n",
              "    <path d=\"M0 0h24v24H0V0z\" fill=\"none\"/>\n",
              "    <path d=\"M18.56 5.44l.94 2.06.94-2.06 2.06-.94-2.06-.94-.94-2.06-.94 2.06-2.06.94zm-11 1L8.5 8.5l.94-2.06 2.06-.94-2.06-.94L8.5 2.5l-.94 2.06-2.06.94zm10 10l.94 2.06.94-2.06 2.06-.94-2.06-.94-.94-2.06-.94 2.06-2.06.94z\"/><path d=\"M17.41 7.96l-1.37-1.37c-.4-.4-.92-.59-1.43-.59-.52 0-1.04.2-1.43.59L10.3 9.45l-7.72 7.72c-.78.78-.78 2.05 0 2.83L4 21.41c.39.39.9.59 1.41.59.51 0 1.02-.2 1.41-.59l7.78-7.78 2.81-2.81c.8-.78.8-2.07 0-2.86zM5.41 20L4 18.59l7.72-7.72 1.47 1.35L5.41 20z\"/>\n",
              "  </svg>\n",
              "      </button>\n",
              "      \n",
              "  <style>\n",
              "    .colab-df-container {\n",
              "      display:flex;\n",
              "      flex-wrap:wrap;\n",
              "      gap: 12px;\n",
              "    }\n",
              "\n",
              "    .colab-df-convert {\n",
              "      background-color: #E8F0FE;\n",
              "      border: none;\n",
              "      border-radius: 50%;\n",
              "      cursor: pointer;\n",
              "      display: none;\n",
              "      fill: #1967D2;\n",
              "      height: 32px;\n",
              "      padding: 0 0 0 0;\n",
              "      width: 32px;\n",
              "    }\n",
              "\n",
              "    .colab-df-convert:hover {\n",
              "      background-color: #E2EBFA;\n",
              "      box-shadow: 0px 1px 2px rgba(60, 64, 67, 0.3), 0px 1px 3px 1px rgba(60, 64, 67, 0.15);\n",
              "      fill: #174EA6;\n",
              "    }\n",
              "\n",
              "    [theme=dark] .colab-df-convert {\n",
              "      background-color: #3B4455;\n",
              "      fill: #D2E3FC;\n",
              "    }\n",
              "\n",
              "    [theme=dark] .colab-df-convert:hover {\n",
              "      background-color: #434B5C;\n",
              "      box-shadow: 0px 1px 3px 1px rgba(0, 0, 0, 0.15);\n",
              "      filter: drop-shadow(0px 1px 2px rgba(0, 0, 0, 0.3));\n",
              "      fill: #FFFFFF;\n",
              "    }\n",
              "  </style>\n",
              "\n",
              "      <script>\n",
              "        const buttonEl =\n",
              "          document.querySelector('#df-2ea6cb86-4447-4099-985c-058dee0147f7 button.colab-df-convert');\n",
              "        buttonEl.style.display =\n",
              "          google.colab.kernel.accessAllowed ? 'block' : 'none';\n",
              "\n",
              "        async function convertToInteractive(key) {\n",
              "          const element = document.querySelector('#df-2ea6cb86-4447-4099-985c-058dee0147f7');\n",
              "          const dataTable =\n",
              "            await google.colab.kernel.invokeFunction('convertToInteractive',\n",
              "                                                     [key], {});\n",
              "          if (!dataTable) return;\n",
              "\n",
              "          const docLinkHtml = 'Like what you see? Visit the ' +\n",
              "            '<a target=\"_blank\" href=https://colab.research.google.com/notebooks/data_table.ipynb>data table notebook</a>'\n",
              "            + ' to learn more about interactive tables.';\n",
              "          element.innerHTML = '';\n",
              "          dataTable['output_type'] = 'display_data';\n",
              "          await google.colab.output.renderOutput(dataTable, element);\n",
              "          const docLink = document.createElement('div');\n",
              "          docLink.innerHTML = docLinkHtml;\n",
              "          element.appendChild(docLink);\n",
              "        }\n",
              "      </script>\n",
              "    </div>\n",
              "  </div>\n",
              "  "
            ]
          },
          "metadata": {},
          "execution_count": 4
        }
      ],
      "source": [
        "data = yf.download(\"GOOGL\" , start = \"2019-01-01\" , interval = '1d')\n",
        "data.head()"
      ]
    },
    {
      "cell_type": "code",
      "execution_count": null,
      "id": "6fe04603",
      "metadata": {
        "colab": {
          "base_uri": "https://localhost:8080/"
        },
        "id": "6fe04603",
        "outputId": "7f866395-fe69-4992-d8fd-e9e8fad7fa9c"
      },
      "outputs": [
        {
          "output_type": "stream",
          "name": "stdout",
          "text": [
            "<class 'pandas.core.frame.DataFrame'>\n",
            "DatetimeIndex: 950 entries, 2019-01-02 00:00:00-05:00 to 2022-10-07 00:00:00-04:00\n",
            "Data columns (total 6 columns):\n",
            " #   Column     Non-Null Count  Dtype  \n",
            "---  ------     --------------  -----  \n",
            " 0   Open       950 non-null    float64\n",
            " 1   High       950 non-null    float64\n",
            " 2   Low        950 non-null    float64\n",
            " 3   Close      950 non-null    float64\n",
            " 4   Adj Close  950 non-null    float64\n",
            " 5   Volume     950 non-null    int64  \n",
            "dtypes: float64(5), int64(1)\n",
            "memory usage: 52.0 KB\n"
          ]
        }
      ],
      "source": [
        "data.info()"
      ]
    },
    {
      "cell_type": "code",
      "execution_count": null,
      "id": "f3f2a2ef",
      "metadata": {
        "colab": {
          "base_uri": "https://localhost:8080/"
        },
        "id": "f3f2a2ef",
        "outputId": "2f9addfc-5c3b-4609-90be-14e0a3d8f5ec"
      },
      "outputs": [
        {
          "output_type": "execute_result",
          "data": {
            "text/plain": [
              "0"
            ]
          },
          "metadata": {},
          "execution_count": 6
        }
      ],
      "source": [
        "data[\"Close\"]=pd.to_numeric(data.Close,errors='coerce')\n",
        "data.isnull().sum().sum()"
      ]
    },
    {
      "cell_type": "code",
      "execution_count": null,
      "id": "aa2acf3a",
      "metadata": {
        "colab": {
          "base_uri": "https://localhost:8080/",
          "height": 265
        },
        "id": "aa2acf3a",
        "outputId": "0d818fa4-1693-4a98-a5b5-a46f1b0b6888"
      },
      "outputs": [
        {
          "output_type": "display_data",
          "data": {
            "text/plain": [
              "<Figure size 432x288 with 1 Axes>"
            ],
            "image/png": "[encoded data removed]"
          },
          "metadata": {
            "needs_background": "light"
          }
        }
      ],
      "source": [
        "plt.plot(data.index, data['Close'], color='green', label='Close')\n",
        "plt.show()"
      ]
    },
    {
      "cell_type": "code",
      "execution_count": null,
      "id": "7de8df16",
      "metadata": {
        "id": "7de8df16"
      },
      "outputs": [],
      "source": [
        "dataV1 = data.iloc[:,3:4]\n",
        "dataV1 = dataV1.values"
      ]
    },
    {
      "cell_type": "code",
      "execution_count": null,
      "id": "98d247d9",
      "metadata": {
        "id": "98d247d9"
      },
      "outputs": [],
      "source": [
        "from sklearn.preprocessing import MinMaxScaler\n",
        "Scaler = MinMaxScaler(feature_range=(0,1))\n",
        "dataV1 = Scaler.fit_transform(dataV1)"
      ]
    },
    {
      "cell_type": "code",
      "execution_count": null,
      "id": "fbcd8350",
      "metadata": {
        "id": "fbcd8350"
      },
      "outputs": [],
      "source": [
        "feature_length = 100"
      ]
    },
    {
      "cell_type": "code",
      "execution_count": null,
      "id": "85d73b27",
      "metadata": {
        "id": "85d73b27"
      },
      "outputs": [],
      "source": [
        "# Function to create x and y data\n",
        "def Create_Features_and_Targets(data, feature_length):\n",
        "    X = list()\n",
        "    Y = list()\n",
        "    for i in range(len(data) - feature_length -1):\n",
        "        X.append(data[i:(i + feature_length), 0])\n",
        "        Y.append(data[i + feature_length, 0])\n",
        "        \n",
        "    X = np.array(X)\n",
        "    Y = np.array(Y)\n",
        "    return X,Y\n",
        "\n",
        "# calling the function\n",
        "X_train,y_train= Create_Features_and_Targets(dataV1,feature_length)"
      ]
    },
    {
      "cell_type": "code",
      "execution_count": null,
      "id": "a55ad9e7",
      "metadata": {
        "colab": {
          "base_uri": "https://localhost:8080/"
        },
        "id": "a55ad9e7",
        "outputId": "692946ba-36c7-400e-ed2c-16bcf35a15de"
      },
      "outputs": [
        {
          "output_type": "execute_result",
          "data": {
            "text/plain": [
              "((849, 100, 1), (849,))"
            ]
          },
          "metadata": {},
          "execution_count": 12
        }
      ],
      "source": [
        "X_train = np.reshape(X_train,(X_train.shape[0],X_train.shape[1],1))\n",
        "X_train.shape, y_train.shape"
      ]
    },
    {
      "cell_type": "code",
      "execution_count": null,
      "id": "1806c118",
      "metadata": {
        "id": "1806c118"
      },
      "outputs": [],
      "source": [
        "from tensorflow.keras.models import Sequential\n",
        "from tensorflow.keras.layers import Dense , Dropout , LSTM"
      ]
    },
    {
      "cell_type": "code",
      "execution_count": null,
      "id": "15d4632a",
      "metadata": {
        "colab": {
          "base_uri": "https://localhost:8080/"
        },
        "id": "15d4632a",
        "outputId": "0c1bce6f-cc8d-410b-9a28-b4506df103ff"
      },
      "outputs": [
        {
          "output_type": "stream",
          "name": "stdout",
          "text": [
            "Model: \"sequential\"\n",
            "_________________________________________________________________\n",
            " Layer (type)                Output Shape              Param #   \n",
            "=================================================================\n",
            " lstm (LSTM)                 (None, 100, 100)          40800     \n",
            "                                                                 \n",
            " dropout (Dropout)           (None, 100, 100)          0         \n",
            "                                                                 \n",
            " lstm_1 (LSTM)               (None, 100)               80400     \n",
            "                                                                 \n",
            " dropout_1 (Dropout)         (None, 100)               0         \n",
            "                                                                 \n",
            " dense (Dense)               (None, 1)                 101       \n",
            "                                                                 \n",
            "=================================================================\n",
            "Total params: 121,301\n",
            "Trainable params: 121,301\n",
            "Non-trainable params: 0\n",
            "_________________________________________________________________\n"
          ]
        }
      ],
      "source": [
        "# model\n",
        "model = Sequential([\n",
        "   LSTM(100,return_sequences=True,input_shape=(X_train.shape[1],1)),\n",
        "   Dropout(0.3),\n",
        "   LSTM(100, return_sequences = False),\n",
        "   Dropout(0.3),\n",
        "    \n",
        "   Dense(1),\n",
        "])\n",
        "model.compile(optimizer='adam',loss=\"mean_squared_error\")\n",
        "model.summary()"
      ]
    },
    {
      "cell_type": "code",
      "execution_count": null,
      "id": "cf99475b",
      "metadata": {
        "scrolled": true,
        "colab": {
          "base_uri": "https://localhost:8080/"
        },
        "id": "cf99475b",
        "outputId": "90dc1ae2-2e23-41d2-d85e-0f2682aea89c"
      },
      "outputs": [
        {
          "output_type": "stream",
          "name": "stdout",
          "text": [
            "Epoch 1/50\n",
            "71/71 [==============================] - 9s 13ms/step - loss: 0.0219\n",
            "Epoch 2/50\n",
            "71/71 [==============================] - 1s 11ms/step - loss: 0.0048\n",
            "Epoch 3/50\n",
            "71/71 [==============================] - 1s 11ms/step - loss: 0.0040\n",
            "Epoch 4/50\n",
            "71/71 [==============================] - 1s 11ms/step - loss: 0.0037\n",
            "Epoch 5/50\n",
            "71/71 [==============================] - 1s 11ms/step - loss: 0.0033\n",
            "Epoch 6/50\n",
            "71/71 [==============================] - 1s 11ms/step - loss: 0.0038\n",
            "Epoch 7/50\n",
            "71/71 [==============================] - 1s 11ms/step - loss: 0.0040\n",
            "Epoch 8/50\n",
            "71/71 [==============================] - 1s 11ms/step - loss: 0.0038\n",
            "Epoch 9/50\n",
            "71/71 [==============================] - 1s 11ms/step - loss: 0.0034\n",
            "Epoch 10/50\n",
            "71/71 [==============================] - 1s 11ms/step - loss: 0.0030\n",
            "Epoch 11/50\n",
            "71/71 [==============================] - 1s 11ms/step - loss: 0.0031\n",
            "Epoch 12/50\n",
            "71/71 [==============================] - 1s 11ms/step - loss: 0.0030\n",
            "Epoch 13/50\n",
            "71/71 [==============================] - 1s 11ms/step - loss: 0.0029\n",
            "Epoch 14/50\n",
            "71/71 [==============================] - 1s 11ms/step - loss: 0.0030\n",
            "Epoch 15/50\n",
            "71/71 [==============================] - 1s 11ms/step - loss: 0.0033\n",
            "Epoch 16/50\n",
            "71/71 [==============================] - 1s 11ms/step - loss: 0.0028\n",
            "Epoch 17/50\n",
            "71/71 [==============================] - 1s 11ms/step - loss: 0.0028\n",
            "Epoch 18/50\n",
            "71/71 [==============================] - 1s 11ms/step - loss: 0.0025\n",
            "Epoch 19/50\n",
            "71/71 [==============================] - 1s 11ms/step - loss: 0.0032\n",
            "Epoch 20/50\n",
            "71/71 [==============================] - 1s 11ms/step - loss: 0.0026\n",
            "Epoch 21/50\n",
            "71/71 [==============================] - 1s 11ms/step - loss: 0.0023\n",
            "Epoch 22/50\n",
            "71/71 [==============================] - 1s 11ms/step - loss: 0.0025\n",
            "Epoch 23/50\n",
            "71/71 [==============================] - 1s 11ms/step - loss: 0.0023\n",
            "Epoch 24/50\n",
            "71/71 [==============================] - 1s 11ms/step - loss: 0.0024\n",
            "Epoch 25/50\n",
            "71/71 [==============================] - 1s 11ms/step - loss: 0.0024\n",
            "Epoch 26/50\n",
            "71/71 [==============================] - 1s 11ms/step - loss: 0.0025\n",
            "Epoch 27/50\n",
            "71/71 [==============================] - 1s 11ms/step - loss: 0.0022\n",
            "Epoch 28/50\n",
            "71/71 [==============================] - 1s 11ms/step - loss: 0.0021\n",
            "Epoch 29/50\n",
            "71/71 [==============================] - 1s 11ms/step - loss: 0.0025\n",
            "Epoch 30/50\n",
            "71/71 [==============================] - 1s 11ms/step - loss: 0.0023\n",
            "Epoch 31/50\n",
            "71/71 [==============================] - 1s 11ms/step - loss: 0.0022\n",
            "Epoch 32/50\n",
            "71/71 [==============================] - 1s 11ms/step - loss: 0.0022\n",
            "Epoch 33/50\n",
            "71/71 [==============================] - 1s 11ms/step - loss: 0.0020\n",
            "Epoch 34/50\n",
            "71/71 [==============================] - 1s 11ms/step - loss: 0.0020\n",
            "Epoch 35/50\n",
            "71/71 [==============================] - 1s 11ms/step - loss: 0.0020\n",
            "Epoch 36/50\n",
            "71/71 [==============================] - 1s 11ms/step - loss: 0.0020\n",
            "Epoch 37/50\n",
            "71/71 [==============================] - 1s 11ms/step - loss: 0.0018\n",
            "Epoch 38/50\n",
            "71/71 [==============================] - 1s 11ms/step - loss: 0.0021\n",
            "Epoch 39/50\n",
            "71/71 [==============================] - 1s 11ms/step - loss: 0.0018\n",
            "Epoch 40/50\n",
            "71/71 [==============================] - 1s 11ms/step - loss: 0.0020\n",
            "Epoch 41/50\n",
            "71/71 [==============================] - 1s 11ms/step - loss: 0.0018\n",
            "Epoch 42/50\n",
            "71/71 [==============================] - 1s 11ms/step - loss: 0.0018\n",
            "Epoch 43/50\n",
            "71/71 [==============================] - 1s 11ms/step - loss: 0.0016\n",
            "Epoch 44/50\n",
            "71/71 [==============================] - 1s 11ms/step - loss: 0.0018\n",
            "Epoch 45/50\n",
            "71/71 [==============================] - 1s 11ms/step - loss: 0.0017\n",
            "Epoch 46/50\n",
            "71/71 [==============================] - 1s 11ms/step - loss: 0.0016\n",
            "Epoch 47/50\n",
            "71/71 [==============================] - 1s 11ms/step - loss: 0.0017\n",
            "Epoch 48/50\n",
            "71/71 [==============================] - 1s 11ms/step - loss: 0.0018\n",
            "Epoch 49/50\n",
            "71/71 [==============================] - 1s 11ms/step - loss: 0.0018\n",
            "Epoch 50/50\n",
            "71/71 [==============================] - 1s 11ms/step - loss: 0.0016\n"
          ]
        }
      ],
      "source": [
        "# Training the model\n",
        "history = model.fit(\n",
        "    X_train, \n",
        "    y_train, \n",
        "    epochs =50, \n",
        "    batch_size = 12, \n",
        "    verbose=1,\n",
        ")"
      ]
    },
    {
      "cell_type": "code",
      "execution_count": null,
      "id": "61d60ee2",
      "metadata": {
        "id": "61d60ee2"
      },
      "outputs": [],
      "source": [
        "testData = data.iloc[:,3:4] # Get 'Close' feature\n",
        "y_real=testData.iloc[feature_length+1:,0:].values #Actual values\n",
        "x_test = testData.iloc[:,0:].values # data to test\n",
        "# normalizing the Data using Scaler.transform function\n",
        "x_test = Scaler.transform(x_test)\n",
        "x_test, y_test = Create_Features_and_Targets(x_test, feature_length)\n",
        "# Making data 3 dimensional\n",
        "x_test = np.reshape(x_test,(x_test.shape[0],x_test.shape[1],1))"
      ]
    },
    {
      "cell_type": "code",
      "execution_count": null,
      "id": "f8ea2a66",
      "metadata": {
        "id": "f8ea2a66"
      },
      "outputs": [],
      "source": [
        "y_pred = model.predict(x_test)\n",
        "predicted_price = Scaler.inverse_transform(y_pred)"
      ]
    },
    {
      "cell_type": "code",
      "execution_count": null,
      "id": "e38d7b84",
      "metadata": {
        "scrolled": true,
        "colab": {
          "base_uri": "https://localhost:8080/",
          "height": 279
        },
        "id": "e38d7b84",
        "outputId": "b3c49c88-8000-4e02-99e7-91f853c61f5b"
      },
      "outputs": [
        {
          "output_type": "display_data",
          "data": {
            "text/plain": [
              "<Figure size 432x288 with 1 Axes>"
            ],
            "image/png": "[encoded data removed]"
          },
          "metadata": {
            "needs_background": "light"
          }
        }
      ],
      "source": [
        "plt.plot(y_real, color = 'red', label = 'Actual')\n",
        "plt.plot(predicted_price, color = 'green', label = 'Predicted')\n",
        "plt.xlabel('Time')\n",
        "plt.ylabel('Stock')\n",
        "plt.legend()\n",
        "plt.show()"
      ]
    },
    {
      "cell_type": "code",
      "execution_count": null,
      "id": "6f6a01b8",
      "metadata": {
        "scrolled": true,
        "id": "6f6a01b8"
      },
      "outputs": [],
      "source": [
        "new_df = pd.DataFrame(y_real, columns=[\"y_real\"])"
      ]
    },
    {
      "cell_type": "code",
      "execution_count": null,
      "id": "ff3793fe",
      "metadata": {
        "colab": {
          "base_uri": "https://localhost:8080/",
          "height": 206
        },
        "id": "ff3793fe",
        "outputId": "427a39b8-9882-4257-e6ec-6eff441c3bbf"
      },
      "outputs": [
        {
          "output_type": "execute_result",
          "data": {
            "text/plain": [
              "      y_real\n",
              "0  55.997002\n",
              "1  56.070499\n",
              "2  55.325001\n",
              "3  51.937000\n",
              "4  52.724499"
            ],
            "text/html": [
              "\n",
              "  <div id=\"df-11304bc0-9d30-4754-a691-048b2a97a246\">\n",
              "    <div class=\"colab-df-container\">\n",
              "      <div>\n",
              "<style scoped>\n",
              "    .dataframe tbody tr th:only-of-type {\n",
              "        vertical-align: middle;\n",
              "    }\n",
              "\n",
              "    .dataframe tbody tr th {\n",
              "        vertical-align: top;\n",
              "    }\n",
              "\n",
              "    .dataframe thead th {\n",
              "        text-align: right;\n",
              "    }\n",
              "</style>\n",
              "<table border=\"1\" class=\"dataframe\">\n",
              "  <thead>\n",
              "    <tr style=\"text-align: right;\">\n",
              "      <th></th>\n",
              "      <th>y_real</th>\n",
              "    </tr>\n",
              "  </thead>\n",
              "  <tbody>\n",
              "    <tr>\n",
              "      <th>0</th>\n",
              "      <td>55.997002</td>\n",
              "    </tr>\n",
              "    <tr>\n",
              "      <th>1</th>\n",
              "      <td>56.070499</td>\n",
              "    </tr>\n",
              "    <tr>\n",
              "      <th>2</th>\n",
              "      <td>55.325001</td>\n",
              "    </tr>\n",
              "    <tr>\n",
              "      <th>3</th>\n",
              "      <td>51.937000</td>\n",
              "    </tr>\n",
              "    <tr>\n",
              "      <th>4</th>\n",
              "      <td>52.724499</td>\n",
              "    </tr>\n",
              "  </tbody>\n",
              "</table>\n",
              "</div>\n",
              "      <button class=\"colab-df-convert\" onclick=\"convertToInteractive('df-11304bc0-9d30-4754-a691-048b2a97a246')\"\n",
              "              title=\"Convert this dataframe to an interactive table.\"\n",
              "              style=\"display:none;\">\n",
              "        \n",
              "  <svg xmlns=\"http://www.w3.org/2000/svg\" height=\"24px\"viewBox=\"0 0 24 24\"\n",
              "       width=\"24px\">\n",
              "    <path d=\"M0 0h24v24H0V0z\" fill=\"none\"/>\n",
              "    <path d=\"M18.56 5.44l.94 2.06.94-2.06 2.06-.94-2.06-.94-.94-2.06-.94 2.06-2.06.94zm-11 1L8.5 8.5l.94-2.06 2.06-.94-2.06-.94L8.5 2.5l-.94 2.06-2.06.94zm10 10l.94 2.06.94-2.06 2.06-.94-2.06-.94-.94-2.06-.94 2.06-2.06.94z\"/><path d=\"M17.41 7.96l-1.37-1.37c-.4-.4-.92-.59-1.43-.59-.52 0-1.04.2-1.43.59L10.3 9.45l-7.72 7.72c-.78.78-.78 2.05 0 2.83L4 21.41c.39.39.9.59 1.41.59.51 0 1.02-.2 1.41-.59l7.78-7.78 2.81-2.81c.8-.78.8-2.07 0-2.86zM5.41 20L4 18.59l7.72-7.72 1.47 1.35L5.41 20z\"/>\n",
              "  </svg>\n",
              "      </button>\n",
              "      \n",
              "  <style>\n",
              "    .colab-df-container {\n",
              "      display:flex;\n",
              "      flex-wrap:wrap;\n",
              "      gap: 12px;\n",
              "    }\n",
              "\n",
              "    .colab-df-convert {\n",
              "      background-color: #E8F0FE;\n",
              "      border: none;\n",
              "      border-radius: 50%;\n",
              "      cursor: pointer;\n",
              "      display: none;\n",
              "      fill: #1967D2;\n",
              "      height: 32px;\n",
              "      padding: 0 0 0 0;\n",
              "      width: 32px;\n",
              "    }\n",
              "\n",
              "    .colab-df-convert:hover {\n",
              "      background-color: #E2EBFA;\n",
              "      box-shadow: 0px 1px 2px rgba(60, 64, 67, 0.3), 0px 1px 3px 1px rgba(60, 64, 67, 0.15);\n",
              "      fill: #174EA6;\n",
              "    }\n",
              "\n",
              "    [theme=dark] .colab-df-convert {\n",
              "      background-color: #3B4455;\n",
              "      fill: #D2E3FC;\n",
              "    }\n",
              "\n",
              "    [theme=dark] .colab-df-convert:hover {\n",
              "      background-color: #434B5C;\n",
              "      box-shadow: 0px 1px 3px 1px rgba(0, 0, 0, 0.15);\n",
              "      filter: drop-shadow(0px 1px 2px rgba(0, 0, 0, 0.3));\n",
              "      fill: #FFFFFF;\n",
              "    }\n",
              "  </style>\n",
              "\n",
              "      <script>\n",
              "        const buttonEl =\n",
              "          document.querySelector('#df-11304bc0-9d30-4754-a691-048b2a97a246 button.colab-df-convert');\n",
              "        buttonEl.style.display =\n",
              "          google.colab.kernel.accessAllowed ? 'block' : 'none';\n",
              "\n",
              "        async function convertToInteractive(key) {\n",
              "          const element = document.querySelector('#df-11304bc0-9d30-4754-a691-048b2a97a246');\n",
              "          const dataTable =\n",
              "            await google.colab.kernel.invokeFunction('convertToInteractive',\n",
              "                                                     [key], {});\n",
              "          if (!dataTable) return;\n",
              "\n",
              "          const docLinkHtml = 'Like what you see? Visit the ' +\n",
              "            '<a target=\"_blank\" href=https://colab.research.google.com/notebooks/data_table.ipynb>data table notebook</a>'\n",
              "            + ' to learn more about interactive tables.';\n",
              "          element.innerHTML = '';\n",
              "          dataTable['output_type'] = 'display_data';\n",
              "          await google.colab.output.renderOutput(dataTable, element);\n",
              "          const docLink = document.createElement('div');\n",
              "          docLink.innerHTML = docLinkHtml;\n",
              "          element.appendChild(docLink);\n",
              "        }\n",
              "      </script>\n",
              "    </div>\n",
              "  </div>\n",
              "  "
            ]
          },
          "metadata": {},
          "execution_count": 21
        }
      ],
      "source": [
        "new_df.head()"
      ]
    },
    {
      "cell_type": "code",
      "execution_count": null,
      "id": "aadc5d9a",
      "metadata": {
        "scrolled": true,
        "id": "aadc5d9a"
      },
      "outputs": [],
      "source": [
        "new_df['predicted_price'] = predicted_price"
      ]
    },
    {
      "cell_type": "code",
      "execution_count": null,
      "id": "b97d0729",
      "metadata": {
        "colab": {
          "base_uri": "https://localhost:8080/",
          "height": 206
        },
        "id": "b97d0729",
        "outputId": "655aa77a-c8ca-4308-ba2e-26ae3d7a986c"
      },
      "outputs": [
        {
          "output_type": "execute_result",
          "data": {
            "text/plain": [
              "      y_real  predicted_price\n",
              "0  55.997002        57.581951\n",
              "1  56.070499        57.344101\n",
              "2  55.325001        56.936703\n",
              "3  51.937000        56.560600\n",
              "4  52.724499        56.106686"
            ],
            "text/html": [
              "\n",
              "  <div id=\"df-5f79f206-cb60-4163-bbc8-bdf5ba1a3a8a\">\n",
              "    <div class=\"colab-df-container\">\n",
              "      <div>\n",
              "<style scoped>\n",
              "    .dataframe tbody tr th:only-of-type {\n",
              "        vertical-align: middle;\n",
              "    }\n",
              "\n",
              "    .dataframe tbody tr th {\n",
              "        vertical-align: top;\n",
              "    }\n",
              "\n",
              "    .dataframe thead th {\n",
              "        text-align: right;\n",
              "    }\n",
              "</style>\n",
              "<table border=\"1\" class=\"dataframe\">\n",
              "  <thead>\n",
              "    <tr style=\"text-align: right;\">\n",
              "      <th></th>\n",
              "      <th>y_real</th>\n",
              "      <th>predicted_price</th>\n",
              "    </tr>\n",
              "  </thead>\n",
              "  <tbody>\n",
              "    <tr>\n",
              "      <th>0</th>\n",
              "      <td>55.997002</td>\n",
              "      <td>57.581951</td>\n",
              "    </tr>\n",
              "    <tr>\n",
              "      <th>1</th>\n",
              "      <td>56.070499</td>\n",
              "      <td>57.344101</td>\n",
              "    </tr>\n",
              "    <tr>\n",
              "      <th>2</th>\n",
              "      <td>55.325001</td>\n",
              "      <td>56.936703</td>\n",
              "    </tr>\n",
              "    <tr>\n",
              "      <th>3</th>\n",
              "      <td>51.937000</td>\n",
              "      <td>56.560600</td>\n",
              "    </tr>\n",
              "    <tr>\n",
              "      <th>4</th>\n",
              "      <td>52.724499</td>\n",
              "      <td>56.106686</td>\n",
              "    </tr>\n",
              "  </tbody>\n",
              "</table>\n",
              "</div>\n",
              "      <button class=\"colab-df-convert\" onclick=\"convertToInteractive('df-5f79f206-cb60-4163-bbc8-bdf5ba1a3a8a')\"\n",
              "              title=\"Convert this dataframe to an interactive table.\"\n",
              "              style=\"display:none;\">\n",
              "        \n",
              "  <svg xmlns=\"http://www.w3.org/2000/svg\" height=\"24px\"viewBox=\"0 0 24 24\"\n",
              "       width=\"24px\">\n",
              "    <path d=\"M0 0h24v24H0V0z\" fill=\"none\"/>\n",
              "    <path d=\"M18.56 5.44l.94 2.06.94-2.06 2.06-.94-2.06-.94-.94-2.06-.94 2.06-2.06.94zm-11 1L8.5 8.5l.94-2.06 2.06-.94-2.06-.94L8.5 2.5l-.94 2.06-2.06.94zm10 10l.94 2.06.94-2.06 2.06-.94-2.06-.94-.94-2.06-.94 2.06-2.06.94z\"/><path d=\"M17.41 7.96l-1.37-1.37c-.4-.4-.92-.59-1.43-.59-.52 0-1.04.2-1.43.59L10.3 9.45l-7.72 7.72c-.78.78-.78 2.05 0 2.83L4 21.41c.39.39.9.59 1.41.59.51 0 1.02-.2 1.41-.59l7.78-7.78 2.81-2.81c.8-.78.8-2.07 0-2.86zM5.41 20L4 18.59l7.72-7.72 1.47 1.35L5.41 20z\"/>\n",
              "  </svg>\n",
              "      </button>\n",
              "      \n",
              "  <style>\n",
              "    .colab-df-container {\n",
              "      display:flex;\n",
              "      flex-wrap:wrap;\n",
              "      gap: 12px;\n",
              "    }\n",
              "\n",
              "    .colab-df-convert {\n",
              "      background-color: #E8F0FE;\n",
              "      border: none;\n",
              "      border-radius: 50%;\n",
              "      cursor: pointer;\n",
              "      display: none;\n",
              "      fill: #1967D2;\n",
              "      height: 32px;\n",
              "      padding: 0 0 0 0;\n",
              "      width: 32px;\n",
              "    }\n",
              "\n",
              "    .colab-df-convert:hover {\n",
              "      background-color: #E2EBFA;\n",
              "      box-shadow: 0px 1px 2px rgba(60, 64, 67, 0.3), 0px 1px 3px 1px rgba(60, 64, 67, 0.15);\n",
              "      fill: #174EA6;\n",
              "    }\n",
              "\n",
              "    [theme=dark] .colab-df-convert {\n",
              "      background-color: #3B4455;\n",
              "      fill: #D2E3FC;\n",
              "    }\n",
              "\n",
              "    [theme=dark] .colab-df-convert:hover {\n",
              "      background-color: #434B5C;\n",
              "      box-shadow: 0px 1px 3px 1px rgba(0, 0, 0, 0.15);\n",
              "      filter: drop-shadow(0px 1px 2px rgba(0, 0, 0, 0.3));\n",
              "      fill: #FFFFFF;\n",
              "    }\n",
              "  </style>\n",
              "\n",
              "      <script>\n",
              "        const buttonEl =\n",
              "          document.querySelector('#df-5f79f206-cb60-4163-bbc8-bdf5ba1a3a8a button.colab-df-convert');\n",
              "        buttonEl.style.display =\n",
              "          google.colab.kernel.accessAllowed ? 'block' : 'none';\n",
              "\n",
              "        async function convertToInteractive(key) {\n",
              "          const element = document.querySelector('#df-5f79f206-cb60-4163-bbc8-bdf5ba1a3a8a');\n",
              "          const dataTable =\n",
              "            await google.colab.kernel.invokeFunction('convertToInteractive',\n",
              "                                                     [key], {});\n",
              "          if (!dataTable) return;\n",
              "\n",
              "          const docLinkHtml = 'Like what you see? Visit the ' +\n",
              "            '<a target=\"_blank\" href=https://colab.research.google.com/notebooks/data_table.ipynb>data table notebook</a>'\n",
              "            + ' to learn more about interactive tables.';\n",
              "          element.innerHTML = '';\n",
              "          dataTable['output_type'] = 'display_data';\n",
              "          await google.colab.output.renderOutput(dataTable, element);\n",
              "          const docLink = document.createElement('div');\n",
              "          docLink.innerHTML = docLinkHtml;\n",
              "          element.appendChild(docLink);\n",
              "        }\n",
              "      </script>\n",
              "    </div>\n",
              "  </div>\n",
              "  "
            ]
          },
          "metadata": {},
          "execution_count": 23
        }
      ],
      "source": [
        "new_df.head()"
      ]
    },
    {
      "cell_type": "code",
      "execution_count": null,
      "id": "84a4cc38",
      "metadata": {
        "colab": {
          "base_uri": "https://localhost:8080/",
          "height": 542
        },
        "id": "84a4cc38",
        "outputId": "2e996eac-6756-452e-e326-b632b5b56d60"
      },
      "outputs": [
        {
          "output_type": "display_data",
          "data": {
            "text/html": [
              "<html>\n",
              "<head><meta charset=\"utf-8\" /></head>\n",
              "<body>\n",
              "    <div>            <script src=\"https://cdnjs.cloudflare.com/ajax/libs/mathjax/2.7.5/MathJax.js?config=TeX-AMS-MML_SVG\"></script><script type=\"text/javascript\">if (window.MathJax) {MathJax.Hub.Config({SVG: {font: \"STIX-Web\"}});}</script>                <script type=\"text/javascript\">window.PlotlyConfig = {MathJaxConfig: 'local'};</script>\n",
              "        <script src=\"https://cdn.plot.ly/plotly-2.8.3.min.js\"></script>                <div id=\"d17a8904-deca-4cb0-8508-048ab6dc901b\" class=\"plotly-graph-div\" style=\"height:525px; width:100%;\"></div>            <script type=\"text/javascript\">                                    window.PLOTLYENV=window.PLOTLYENV || {};                                    if (document.getElementById(\"d17a8904-deca-4cb0-8508-048ab6dc901b\")) {                    Plotly.newPlot(                        \"d17a8904-deca-4cb0-8508-048ab6dc901b\",                        [{\"hovertemplate\":\"variable=y_real<br>index=%{x}<br>value=%{y}<extra></extra>\",\"legendgroup\":\"y_real\",\"line\":{\"color\":\"#636efa\",\"dash\":\"solid\"},\"marker\":{\"symbol\":\"circle\"},\"mode\":\"lines\",\"name\":\"y_real\",\"showlegend\":true,\"x\":[0,1,2,3,4,5,6,7,8,9,10,11,12,13,14,15,16,17,18,19,20,21,22,23,24,25,26,27,28,29,30,31,32,33,34,35,36,37,38,39,40,41,42,43,44,45,46,47,48,49,50,51,52,53,54,55,56,57,58,59,60,61,62,63,64,65,66,67,68,69,70,71,72,73,74,75,76,77,78,79,80,81,82,83,84,85,86,87,88,89,90,91,92,93,94,95,96,97,98,99,100,101,102,103,104,105,106,107,108,109,110,111,112,113,114,115,116,117,118,119,120,121,122,123,124,125,126,127,128,129,130,131,132,133,134,135,136,137,138,139,140,141,142,143,144,145,146,147,148,149,150,151,152,153,154,155,156,157,158,159,160,161,162,163,164,165,166,167,168,169,170,171,172,173,174,175,176,177,178,179,180,181,182,183,184,185,186,187,188,189,190,191,192,193,194,195,196,197,198,199,200,201,202,203,204,205,206,207,208,209,210,211,212,213,214,215,216,217,218,219,220,221,222,223,224,225,226,227,228,229,230,231,232,233,234,235,236,237,238,239,240,241,242,243,244,245,246,247,248,249,250,251,252,253,254,255,256,257,258,259,260,261,262,263,264,265,266,267,268,269,270,271,272,273,274,275,276,277,278,279,280,281,282,283,284,285,286,287,288,289,290,291,292,293,294,295,296,297,298,299,300,301,302,303,304,305,306,307,308,309,310,311,312,313,314,315,316,317,318,319,320,321,322,323,324,325,326,327,328,329,330,331,332,333,334,335,336,337,338,339,340,341,342,343,344,345,346,347,348,349,350,351,352,353,354,355,356,357,358,359,360,361,362,363,364,365,366,367,368,369,370,371,372,373,374,375,376,377,378,379,380,381,382,383,384,385,386,387,388,389,390,391,392,393,394,395,396,397,398,399,400,401,402,403,404,405,406,407,408,409,410,411,412,413,414,415,416,417,418,419,420,421,422,423,424,425,426,427,428,429,430,431,432,433,434,435,436,437,438,439,440,441,442,443,444,445,446,447,448,449,450,451,452,453,454,455,456,457,458,459,460,461,462,463,464,465,466,467,468,469,470,471,472,473,474,475,476,477,478,479,480,481,482,483,484,485,486,487,488,489,490,491,492,493,494,495,496,497,498,499,500,501,502,503,504,505,506,507,508,509,510,511,512,513,514,515,516,517,518,519,520,521,522,523,524,525,526,527,528,529,530,531,532,533,534,535,536,537,538,539,540,541,542,543,544,545,546,547,548,549,550,551,552,553,554,555,556,557,558,559,560,561,562,563,564,565,566,567,568,569,570,571,572,573,574,575,576,577,578,579,580,581,582,583,584,585,586,587,588,589,590,591,592,593,594,595,596,597,598,599,600,601,602,603,604,605,606,607,608,609,610,611,612,613,614,615,616,617,618,619,620,621,622,623,624,625,626,627,628,629,630,631,632,633,634,635,636,637,638,639,640,641,642,643,644,645,646,647,648,649,650,651,652,653,654,655,656,657,658,659,660,661,662,663,664,665,666,667,668,669,670,671,672,673,674,675,676,677,678,679,680,681,682,683,684,685,686,687,688,689,690,691,692,693,694,695,696,697,698,699,700,701,702,703,704,705,706,707,708,709,710,711,712,713,714,715,716,717,718,719,720,721,722,723,724,725,726,727,728,729,730,731,732,733,734,735,736,737,738,739,740,741,742,743,744,745,746,747,748,749,750,751,752,753,754,755,756,757,758,759,760,761,762,763,764,765,766,767,768,769,770,771,772,773,774,775,776,777,778,779,780,781,782,783,784,785,786,787,788,789,790,791,792,793,794,795,796,797,798,799,800,801,802,803,804,805,806,807,808,809,810,811,812,813,814,815,816,817,818,819,820,821,822,823,824,825,826,827,828,829,830,831,832,833,834,835,836,837,838,839,840,841,842,843,844,845,846,847,848],\"xaxis\":\"x\",\"y\":[55.99700164794922,56.070499420166016,55.32500076293945,51.9370002746582,52.7244987487793,52.231998443603516,52.38800048828125,53.41849899291992,54.13800048828125,54.051998138427734,53.95500183105469,54.550498962402344,54.314998626708984,54.69449996948242,55.262001037597656,55.22549819946289,55.65999984741211,56.26850128173828,55.834999084472656,54.37900161743164,54.01599884033203,53.83150100708008,54.13999938964844,55.0,55.630001068115234,56.14950180053711,56.63349914550781,55.839500427246094,56.214500427246094,57.045501708984375,57.20399856567383,57.266998291015625,57.5255012512207,57.67300033569336,57.33700180053711,57.36199951171875,56.57749938964844,56.96049880981445,57.40250015258789,56.98649978637695,56.797000885009766,62.26100158691406,62.09199905395508,61.400001525878906,60.90999984741211,60.5890007019043,59.816001892089844,57.73749923706055,58.55400085449219,58.795501708984375,60.30950164794922,59.44499969482422,58.724998474121094,59.83649826049805,58.212501525878906,58.465999603271484,58.96049880981445,60.02199935913086,59.17649841308594,59.57899856567383,59.57600021362305,57.67900085449219,58.558998107910156,58.54100036621094,58.6875,59.71200180053711,59.5265007019043,58.477500915527344,59.11349868774414,60.609500885009766,60.316001892089844,60.26350021362305,60.28499984741211,61.0,61.74850082397461,62.00149917602539,61.58150100708008,61.49399948120117,61.63249969482422,61.9375,61.492000579833984,61.734500885009766,60.916500091552734,62.297000885009766,62.114498138427734,61.29750061035156,61.05699920654297,60.29999923706055,58.895999908447266,59.471500396728516,60.54800033569336,60.412498474121094,59.506500244140625,60.119998931884766,60.4734992980957,60.785499572753906,60.88850021362305,62.11199951171875,62.150001525878906,62.63999938964844,62.22050094604492,62.2140007019043,62.060001373291016,62.881500244140625,62.955501556396484,63.21500015258789,64.4489974975586,63.03300094604492,63.03499984741211,62.939998626708984,63.61249923706055,64.48049926757812,64.5719985961914,64.55049896240234,65.34700012207031,65.44999694824219,64.91400146484375,64.8604965209961,64.80899810791016,65.4574966430664,66.677001953125,65.99199676513672,65.62950134277344,65.09300231933594,65.00700378417969,64.68350219726562,65.28199768066406,65.6500015258789,65.60649871826172,65.20449829101562,64.44300079345703,64.73699951171875,65.9469985961914,66.3479995727539,66.96949768066406,67.14949798583984,67.14450073242188,67.2125015258789,67.42449951171875,67.34349822998047,68.03500366210938,67.74449920654297,67.59549713134766,67.8219985961914,67.56099700927734,67.53150177001953,67.22149658203125,68.12349700927734,67.73200225830078,66.9854965209961,66.96949768066406,68.43399810791016,68.07599639892578,69.8905029296875,69.75550079345703,70.25199890136719,70.989501953125,71.447998046875,72.00150299072266,71.52950286865234,71.95999908447266,72.50800323486328,73.97599792480469,74.11250305175781,74.19349670410156,74.2344970703125,73.30850219726562,71.58650207519531,72.5250015258789,72.83499908447266,72.7125015258789,71.63899993896484,74.12999725341797,72.27050018310547,72.30249786376953,73.79850006103516,73.95549774169922,75.43299865722656,75.50299835205078,75.93150329589844,75.66950225830078,75.9365005493164,75.97200012207031,76.24349975585938,75.84950256347656,74.1729965209961,70.99299621582031,69.31600189208984,69.52349853515625,65.74749755859375,66.9625015258789,69.31600189208984,66.88600158691406,69.08000183105469,65.73799896240234,64.78700256347656,60.78950119018555,63.75849914550781,60.54499816894531,55.57749938964844,60.7135009765625,53.650001525878906,55.90299987792969,54.55950164794922,55.583499908447266,53.410499572753906,52.70650100708008,56.5004997253418,55.08100128173828,58.145999908447266,55.51300048828125,57.31549835205078,58.09749984741211,55.10499954223633,55.85150146484375,54.6349983215332,59.15950012207031,59.12799835205078,60.349998474121094,60.32849884033203,60.52050018310547,63.26150131225586,62.8650016784668,62.871498107910156,63.95000076293945,63.057498931884766,60.608001708984375,62.920501708984375,63.55849838256836,63.83000183105469,63.542999267578125,61.62950134277344,67.10900115966797,67.33499908447266,65.86599731445312,66.1449966430664,67.45099639892578,67.27149963378906,68.46399688720703,69.21700286865234,70.17949676513672,68.75900268554688,67.41649627685547,67.84300231933594,68.65299987792969,69.25900268554688,68.72000122070312,70.45800018310547,70.3375015258789,70.66200256347656,71.06849670410156,71.01399993896484,70.91200256347656,71.6760025024414,71.74349975585938,72.1155014038086,71.9625015258789,70.71499633789062,72.0009994506836,72.4020004272461,72.60399627685547,73.23500061035156,70.09500122070312,70.64600372314453,71.03700256347656,72.32350158691406,72.62699890136719,71.70600128173828,71.23200225830078,72.53299713134766,73.1989974975586,71.63500213623047,72.05500030517578,68.12699890136719,69.8584976196289,70.90249633789062,72.0999984741211,73.49649810791016,74.98249816894531,74.49600219726562,75.18000030517578,75.93299865722656,76.95050048828125,75.61150360107422,76.04299926757812,75.84400177001953,75.74600219726562,75.84249877929688,78.19200134277344,77.7959976196289,78.24250030517578,75.8375015258789,75.4104995727539,76.47149658203125,75.18250274658203,76.17549896240234,76.91850280761719,74.39749908447266,74.13800048828125,73.66500091552734,73.95449829101562,75.24749755859375,74.91850280761719,74.84100341796875,74.0270004272461,75.36199951171875,75.8324966430664,75.23149871826172,75.81199645996094,77.78900146484375,77.23049926757812,78.8125,78.77850341796875,79.25749969482422,80.2925033569336,82.20649719238281,81.4260025024414,81.97149658203125,81.47650146484375,82.75399780273438,85.86949920654297,81.47550201416016,79.06050109863281,76.18000030517578,77.36150360107422,76.30249786376953,75.78800201416016,75.44149780273438,76.75599670410156,75.60449981689453,74.35199737548828,72.55449676513672,71.50700378417969,72.99099731445312,70.46949768066406,71.14299774169922,71.9530029296875,72.93299865722656,73.3010025024414,73.27999877929688,74.3949966430664,72.77999877929688,74.1415023803711,72.5510025024414,72.95700073242188,74.17150115966797,75.52249908447266,78.22949981689453,78.35350036621094,78.1719970703125,77.77349853515625,78.38500213623047,76.49749755859375,77.55400085449219,79.29949951171875,80.33300018310547,81.64900207519531,79.2145004272461,79.94400024414062,75.54000091552734,77.84400177001953,80.80549621582031,81.21600341796875,82.28299713134766,87.2925033569336,88.125,87.98650360107422,88.07099914550781,86.88600158691406,87.36150360107422,87.14099884033203,88.61299896240234,88.70149993896484,88.08300018310547,87.03199768066406,87.92849731445312,86.81900024414062,86.37799835205078,88.19499969482422,88.20649719238281,89.35099792480469,87.72000122070312,89.76799774169922,91.24849700927734,91.09200286865234,91.18800354003906,90.85150146484375,90.56649780273438,88.89299774169922,88.38249969482422,88.73999786376953,87.61299896240234,88.05400085449219,87.8594970703125,87.02549743652344,86.31099700927734,86.72799682617188,86.01100158691406,86.4114990234375,86.70800018310547,88.697998046875,87.88800048828125,86.8125,87.63200378417969,86.30650329589844,87.00250244140625,86.14399719238281,88.71700286865234,89.8915023803711,87.81449890136719,86.87149810791016,87.36250305175781,86.5459976196289,86.38099670410156,89.22350311279297,94.00350189208984,94.2074966430664,94.62799835205078,94.71399688720703,95.39749908447266,90.9469985961914,92.66000366210938,91.36799621582031,94.65350341796875,95.95600128173828,102.94400024414062,102.68150329589844,104.44149780273438,104.22599792480469,103.76950073242188,104.3239974975586,104.4375,104.75150299072266,105.53500366210938,105.93099975585938,105.29049682617188,104.44049835205078,102.71299743652344,103.00599670410156,104.19049835205078,100.79750061035156,101.09549713134766,103.48300170898438,103.2239990234375,100.57050323486328,101.69650268554688,104.85350036621094,100.375,102.01799774169922,101.80950164794922,105.0270004272461,102.5,102.72200012207031,104.19450378417969,104.11100006103516,101.06700134277344,101.3479995727539,101.53450012207031,102.06649780273438,101.62650299072266,101.62300109863281,101.23650360107422,102.28949737548828,102.32350158691406,103.1259994506836,106.48899841308594,110.947998046875,110.46299743652344,111.95149993896484,112.52149963378906,113.53350067138672,112.23100280761719,112.72149658203125,112.09549713134766,114.26249694824219,114.13749694824219,114.48799896240234,113.95050048828125,113.9175033569336,112.6259994506836,114.99649810791016,115.49649810791016,114.54900360107422,117.9520034790039,119.63800048828125,117.67500305175781,117.15399932861328,115.34149932861328,115.7385025024414,116.86750030517578,117.59649658203125,114.5875015258789,113.50299835205078,110.01249694824219,111.4520034790039,113.91899871826172,114.44599914550781,113.12349700927734,113.57499694824219,115.34750366210938,114.70649719238281,118.052001953125,118.14350128173828,119.0155029296875,118.13400268554688,117.84249877929688,119.05899810791016,118.52950286865234,117.37899780273438,119.67849731445312,120.11499786376953,119.9219970703125,120.39700317382812,121.75650024414062,121.51000213623047,122.44550323486328,121.41950225830078,120.77249908447266,121.74349975585938,120.11100006103516,121.8125,122.33049774169922,122.12699890136719,122.5,122.50849914550781,122.53600311279297,122.27249908447266,122.0895004272461,122.44450378417969,125.25749969482422,126.19000244140625,126.4739990234375,125.04399871826172,125.51850128173828,126.97550201416016,127.34149932861328,128.23699951171875,127.00499725341797,126.97000122070312,124.5780029296875,126.20950317382812,127.54900360107422,128.42149353027344,133.01499938964844,134.03500366210938,131.89999389648438,136.093994140625,135.77749633789062,134.72650146484375,134.85450744628906,135.6300048828125,135.12550354003906,136.25149536132812,135.73849487304688,136.91299438476562,136.8070068359375,136.2790069580078,137.19400024414062,137.7274932861328,138.3094940185547,136.6614990234375,135.44900512695312,135.67999267578125,137.42950439453125,140.04150390625,141.26150512695312,142.07899475097656,141.4405059814453,144.00399780273438,144.5904998779297,144.69749450683594,145.2154998779297,143.28700256347656,143.739501953125,144.28050231933594,143.6909942626953,143.54100036621094,140.87600708007812,142.33250427246094,142.54449462890625,144.42950439453125,143.61000061035156,140.8000030517578,138.71949768066406,139.0330047607422,140.2834930419922,141.21600341796875,142.21499633789062,141.07200622558594,135.8300018310547,134.35350036621094,133.67599487304688,136.54299926757812,133.6595001220703,136.0229949951172,137.56500244140625,139.22500610351562,139.78550720214844,138.91400146484375,136.44900512695312,137.58200073242188,141.1510009765625,141.3679962158203,142.7779998779297,143.23699951171875,141.7689971923828,141.88600158691406,137.56649780273438,137.44700622558594,139.30850219726562,146.21749877929688,145.8489990234375,148.04600524902344,143.4969940185547,145.4324951171875,146.59800720214844,148.2675018310547,148.8520050048828,149.031005859375,148.9185028076172,145.89349365234375,145.76649475097656,148.67799377441406,148.45199584960938,147.87600708007812,148.0469970703125,149.8385009765625,148.92649841308594,146.302001953125,145.78199768066406,146.1199951171875,142.18299865722656,145.53050231933594,141.8975067138672,141.05149841308594,142.96600341796875,142.00149536132812,143.15499877929688,147.26950073242188,148.18649291992188,147.6385040283203,148.00149536132812,145.82650756835938,143.90699768066406,146.4409942626953,144.44500732421875,141.72500610351562,141.60699462890625,143.47250366210938,146.4149932861328,146.91650390625,147.906494140625,146.68699645996094,146.65499877929688,146.20050048828125,144.8520050048828,144.9915008544922,144.39950561523438,137.77499389648438,137.74749755859375,137.01699829101562,138.66949462890625,139.73599243164062,141.4304962158203,138.58700561523438,139.48049926757812,135.9980010986328,135.1165008544922,133.3074951171875,130.35150146484375,130.8040008544922,126.93499755859375,129.23300170898438,129.0050048828125,133.3509979248047,135.30349731445312,137.6439971923828,148.0,143.08999633789062,143.29299926757812,139.2010040283203,139.3990020751953,141.5919952392578,138.6199951171875,134.28250122070312,135.5260009765625,136.60850524902344,137.73800659179688,132.53900146484375,130.4029998779297,129.81350708007812,127.58799743652344,132.6909942626953,134.45950317382812,135.0570068359375,134.06149291992188,134.57150268554688,133.89950561523438,131.906494140625,126.37850189208984,127.10449981689453,133.4199981689453,132.42950439453125,129.87049865722656,125.95099639892578,129.197998046875,133.28050231933594,133.83900451660156,136.12550354003906,136.10150146484375,139.8679962158203,138.27549743652344,141.57200622558594,141.67300415039062,141.45550537109375,142.5054931640625,141.93850708007812,139.0675048828125,140.15049743652344,142.97149658203125,140.59100341796875,136.54800415039062,135.8885040283203,133.28750610351562,128.82350158691406,127.7145004272461,129.8939971923828,126.7300033569336,127.67649841308594,130.00900268554688,128.0399932861328,124.81449890136719,119.635498046875,123.0739974975586,118.6500015258789,114.29450225830078,118.52249908447266,114.1094970703125,116.58300018310547,117.33399963378906,122.26100158691406,116.50550079345703,115.74649810791016,112.51100158691406,114.3949966430664,113.60250091552734,112.84400177001953,116.05049896240234,114.44499969482422,116.4729995727539,111.89949798583984,110.38400268554688,108.90799713134766,111.48799896240234,105.97000122070312,105.80500030517578,107.7925033569336,112.31649780273438,113.76200103759766,113.89199829101562,117.62249755859375,114.54100036621094,116.82050323486328,117.14949798583984,117.19400024414062,114.83550262451172,111.1614990234375,106.39250183105469,106.71549987792969,109.7645034790039,106.03350067138672,107.14350128173828,111.54399871826172,111.48750305175781,112.24199676513672,117.9749984741211,115.83350372314453,112.00749969482422,111.70149993896484,108.96299743652344,108.73750305175781,113.26300048828125,114.5719985961914,118.78299713134766,119.35350036621094,115.67649841308594,114.02050018310547,111.35350036621094,110.36750030517578,111.77749633789062,109.02999877929688,113.80999755859375,113.9000015258789,114.33999633789062,107.9000015258789,107.51000213623047,105.0199966430664,113.05999755859375,114.22000122070312,116.31999969482422,114.86000061035156,115.12999725341797,118.08000183105469,118.19000244140625,117.47000122070312,117.30000305175781,116.62999725341797,119.69999694824219,118.83999633789062,121.68000030517578,122.08000183105469,121.69999694824219,119.55000305175781,120.16999816894531,117.20999908447266,114.23999786376953,113.86000061035156,113.69000244140625,116.6500015258789,110.33999633789062,109.41999816894531,108.94000244140625,108.22000122070312,109.73999786376953,107.8499984741211,106.80999755859375,109.44999694824219,108.37999725341797,110.6500015258789,110.86000061035156,104.31999969482422,105.0,102.91000366210938,102.80000305175781,103.06999969482422,101.13999938964844,99.27999877929688,100.13999938964844,98.73999786376953,98.16999816894531,97.5,100.05000305175781,97.41999816894531,95.6500015258789,98.63999938964844,101.63999938964844,101.43000030517578,101.41999816894531,98.68000030517578],\"yaxis\":\"y\",\"type\":\"scattergl\"},{\"hovertemplate\":\"variable=predicted_price<br>index=%{x}<br>value=%{y}<extra></extra>\",\"legendgroup\":\"predicted_price\",\"line\":{\"color\":\"#EF553B\",\"dash\":\"solid\"},\"marker\":{\"symbol\":\"circle\"},\"mode\":\"lines\",\"name\":\"predicted_price\",\"showlegend\":true,\"x\":[0,1,2,3,4,5,6,7,8,9,10,11,12,13,14,15,16,17,18,19,20,21,22,23,24,25,26,27,28,29,30,31,32,33,34,35,36,37,38,39,40,41,42,43,44,45,46,47,48,49,50,51,52,53,54,55,56,57,58,59,60,61,62,63,64,65,66,67,68,69,70,71,72,73,74,75,76,77,78,79,80,81,82,83,84,85,86,87,88,89,90,91,92,93,94,95,96,97,98,99,100,101,102,103,104,105,106,107,108,109,110,111,112,113,114,115,116,117,118,119,120,121,122,123,124,125,126,127,128,129,130,131,132,133,134,135,136,137,138,139,140,141,142,143,144,145,146,147,148,149,150,151,152,153,154,155,156,157,158,159,160,161,162,163,164,165,166,167,168,169,170,171,172,173,174,175,176,177,178,179,180,181,182,183,184,185,186,187,188,189,190,191,192,193,194,195,196,197,198,199,200,201,202,203,204,205,206,207,208,209,210,211,212,213,214,215,216,217,218,219,220,221,222,223,224,225,226,227,228,229,230,231,232,233,234,235,236,237,238,239,240,241,242,243,244,245,246,247,248,249,250,251,252,253,254,255,256,257,258,259,260,261,262,263,264,265,266,267,268,269,270,271,272,273,274,275,276,277,278,279,280,281,282,283,284,285,286,287,288,289,290,291,292,293,294,295,296,297,298,299,300,301,302,303,304,305,306,307,308,309,310,311,312,313,314,315,316,317,318,319,320,321,322,323,324,325,326,327,328,329,330,331,332,333,334,335,336,337,338,339,340,341,342,343,344,345,346,347,348,349,350,351,352,353,354,355,356,357,358,359,360,361,362,363,364,365,366,367,368,369,370,371,372,373,374,375,376,377,378,379,380,381,382,383,384,385,386,387,388,389,390,391,392,393,394,395,396,397,398,399,400,401,402,403,404,405,406,407,408,409,410,411,412,413,414,415,416,417,418,419,420,421,422,423,424,425,426,427,428,429,430,431,432,433,434,435,436,437,438,439,440,441,442,443,444,445,446,447,448,449,450,451,452,453,454,455,456,457,458,459,460,461,462,463,464,465,466,467,468,469,470,471,472,473,474,475,476,477,478,479,480,481,482,483,484,485,486,487,488,489,490,491,492,493,494,495,496,497,498,499,500,501,502,503,504,505,506,507,508,509,510,511,512,513,514,515,516,517,518,519,520,521,522,523,524,525,526,527,528,529,530,531,532,533,534,535,536,537,538,539,540,541,542,543,544,545,546,547,548,549,550,551,552,553,554,555,556,557,558,559,560,561,562,563,564,565,566,567,568,569,570,571,572,573,574,575,576,577,578,579,580,581,582,583,584,585,586,587,588,589,590,591,592,593,594,595,596,597,598,599,600,601,602,603,604,605,606,607,608,609,610,611,612,613,614,615,616,617,618,619,620,621,622,623,624,625,626,627,628,629,630,631,632,633,634,635,636,637,638,639,640,641,642,643,644,645,646,647,648,649,650,651,652,653,654,655,656,657,658,659,660,661,662,663,664,665,666,667,668,669,670,671,672,673,674,675,676,677,678,679,680,681,682,683,684,685,686,687,688,689,690,691,692,693,694,695,696,697,698,699,700,701,702,703,704,705,706,707,708,709,710,711,712,713,714,715,716,717,718,719,720,721,722,723,724,725,726,727,728,729,730,731,732,733,734,735,736,737,738,739,740,741,742,743,744,745,746,747,748,749,750,751,752,753,754,755,756,757,758,759,760,761,762,763,764,765,766,767,768,769,770,771,772,773,774,775,776,777,778,779,780,781,782,783,784,785,786,787,788,789,790,791,792,793,794,795,796,797,798,799,800,801,802,803,804,805,806,807,808,809,810,811,812,813,814,815,816,817,818,819,820,821,822,823,824,825,826,827,828,829,830,831,832,833,834,835,836,837,838,839,840,841,842,843,844,845,846,847,848],\"xaxis\":\"x\",\"y\":[57.58195114135742,57.34410095214844,56.936702728271484,56.56060028076172,56.106685638427734,54.89582824707031,53.79460906982422,52.890254974365234,52.32570266723633,52.31071090698242,52.74946975708008,53.29288101196289,53.74648666381836,54.210201263427734,54.52495574951172,54.792694091796875,55.118404388427734,55.38631057739258,55.666473388671875,56.03324890136719,56.244258880615234,55.96876525878906,55.43296813964844,54.85055160522461,54.45042037963867,54.43501663208008,54.7583122253418,55.293514251708984,55.92475891113281,56.26182174682617,56.4744873046875,56.78718185424805,57.11240005493164,57.37781524658203,57.61220169067383,57.8094596862793,57.85549545288086,57.82044982910156,57.558929443359375,57.34040069580078,57.299198150634766,57.244808197021484,57.1462516784668,58.39878463745117,59.957611083984375,61.10266876220703,61.6636962890625,61.74644088745117,61.39585876464844,60.408329010009766,59.545631408691406,58.99324035644531,59.07621765136719,59.21799850463867,59.171669006347656,59.32714080810547,59.147132873535156,58.91594314575195,58.843040466308594,59.12520217895508,59.29933547973633,59.48042678833008,59.62590026855469,59.254600524902344,58.94535827636719,58.73689270019531,58.65707015991211,58.9072265625,59.20781707763672,59.20148468017578,59.212039947509766,59.6019172668457,60.00461196899414,60.30131149291992,60.484439849853516,60.74824905395508,61.17103576660156,61.6260986328125,61.87942886352539,61.954471588134766,61.961151123046875,62.005958557128906,61.942073822021484,61.897743225097656,61.6673583984375,61.74326705932617,61.89672088623047,61.84320068359375,61.647178649902344,61.24642562866211,60.4996452331543,59.90892028808594,59.79621887207031,59.89897155761719,59.85379409790039,59.90620422363281,60.0870361328125,60.366188049316406,60.65389633178711,61.18346405029297,61.711666107177734,62.23434066772461,62.52614974975586,62.63881301879883,62.601959228515625,62.70398712158203,62.85857009887695,63.0580940246582,63.53313446044922,63.665199279785156,63.605384826660156,63.44831466674805,63.447689056396484,63.730873107910156,64.09503173828125,64.40083312988281,64.80502319335938,65.18260955810547,65.32196807861328,65.30509185791016,65.2066650390625,65.25243377685547,65.65274047851562,65.94215393066406,66.01844024658203,65.84674835205078,65.58183288574219,65.25531005859375,65.1243896484375,65.20275115966797,65.34455108642578,65.381103515625,65.17369079589844,64.98062133789062,65.1428451538086,65.52729797363281,66.07473754882812,66.61045837402344,67.01205444335938,67.27472686767578,67.46424102783203,67.55233764648438,67.74274444580078,67.85572814941406,67.8649673461914,67.87889862060547,67.82283020019531,67.73827362060547,67.58136749267578,67.65320587158203,67.71051025390625,67.55963897705078,67.34882354736328,67.52850341796875,67.74959564208984,68.3905258178711,69.03113555908203,69.64163970947266,70.2777099609375,70.88496398925781,71.4683837890625,71.77581024169922,71.9915771484375,72.24662017822266,72.81993103027344,73.41822814941406,73.89563751220703,74.20999908447266,74.13843536376953,73.48027801513672,72.96002197265625,72.69510650634766,72.56824493408203,72.25971984863281,72.57628631591797,72.61823272705078,72.54266357421875,72.81551361083984,73.21356964111328,73.94434356689453,74.65817260742188,75.2994155883789,75.6852798461914,75.93356323242188,76.06681823730469,76.18167877197266,76.15447235107422,75.64469909667969,74.25180053710938,72.39661407470703,70.82998657226562,68.81757354736328,67.3853988647461,67.14115142822266,66.88726806640625,67.25016021728516,66.98493957519531,66.2818374633789,64.57843780517578,63.5654411315918,62.32109069824219,60.045623779296875,59.082427978515625,57.24730682373047,55.967872619628906,54.9456787109375,54.54022979736328,54.012908935546875,53.391300201416016,53.8193473815918,54.33296203613281,55.525856018066406,56.13717269897461,56.77608871459961,57.48939895629883,57.3356819152832,56.98703384399414,56.333335876464844,56.78578186035156,57.64921569824219,58.786842346191406,59.77506637573242,60.503631591796875,61.618141174316406,62.54323959350586,63.14859390258789,63.722679138183594,63.91283416748047,63.262306213378906,62.941837310791016,62.997249603271484,63.263763427734375,63.482452392578125,63.148162841796875,64.00161743164062,65.25495147705078,66.00978088378906,66.42868041992188,66.92496490478516,67.28760528564453,67.79414367675781,68.42471313476562,69.19173431396484,69.46867370605469,69.12031555175781,68.6809310913086,68.50069427490234,68.62129211425781,68.70442199707031,69.18418884277344,69.69273376464844,70.17166137695312,70.62451171875,70.94175720214844,71.09525299072266,71.32947540283203,71.55485534667969,71.81092071533203,71.9756088256836,71.74317932128906,71.71504211425781,71.8794937133789,72.13484191894531,72.52507019042969,72.0868911743164,71.53594207763672,71.16471862792969,71.28123474121094,71.6572265625,71.82334899902344,71.74198150634766,71.90319061279297,72.29911804199219,72.30550384521484,72.2486801147461,71.19302368164062,70.3898696899414,70.1478271484375,70.5084457397461,71.3999252319336,72.68708801269531,73.71143341064453,74.54945373535156,75.29407501220703,76.0705795288086,76.32194519042969,76.3925552368164,76.30888366699219,76.14568328857422,76.00422668457031,76.49578857421875,77.0274429321289,77.55762481689453,77.34396362304688,76.7640609741211,76.43505859375,75.95977783203125,75.78812408447266,75.97393798828125,75.62803649902344,75.08113098144531,74.46385192871094,74.03982543945312,74.12914276123047,74.33610534667969,74.52847290039062,74.46730041503906,74.65504455566406,75.02413177490234,75.22911834716797,75.46312713623047,76.15434265136719,76.72525787353516,77.50788116455078,78.17455291748047,78.74745178222656,79.3990707397461,80.40544891357422,81.09955596923828,81.62818145751953,81.82199096679688,82.15019226074219,83.24197387695312,83.22977447509766,82.16547393798828,80.20064544677734,78.63130187988281,77.32508087158203,76.31475830078125,75.59020233154297,75.50277709960938,75.42533111572266,75.06745910644531,74.23686218261719,73.15213012695312,72.59745788574219,71.776123046875,71.21228790283203,71.10676574707031,71.4809341430664,72.07481384277344,72.62307739257812,73.30827331542969,73.48146057128906,73.73946380615234,73.56790924072266,73.3534927368164,73.47460174560547,74.04777526855469,75.36072540283203,76.6953125,77.66154479980469,78.13086700439453,78.42694854736328,78.0878677368164,77.82672119140625,78.0934829711914,78.77033996582031,79.78368377685547,80.05874633789062,80.14960479736328,79.01691436767578,78.2374267578125,78.53521728515625,79.31065368652344,80.36979675292969,82.57966613769531,84.9176254272461,86.67755889892578,87.77806091308594,88.02001190185547,87.97209167480469,87.74372100830078,87.86650085449219,88.10504150390625,88.16451263427734,87.86511993408203,87.7282943725586,87.39641571044922,86.95938110351562,87.05702209472656,87.34151458740234,87.9303970336914,88.06996154785156,88.53526306152344,89.38829040527344,90.13468170166016,90.67721557617188,90.91224670410156,90.8906478881836,90.33641052246094,89.58191680908203,89.02324676513672,88.38546752929688,87.99353790283203,87.7458267211914,87.40695190429688,86.93915557861328,86.6483383178711,86.31710815429688,86.16133117675781,86.19288635253906,86.8090591430664,87.29397583007812,87.3354721069336,87.40582275390625,87.12281799316406,86.95181274414062,86.64124298095703,87.01762390136719,87.87059783935547,88.1609115600586,87.92256927490234,87.6599349975586,87.23565673828125,86.8104019165039,87.22172546386719,89.10142517089844,91.13224029541016,92.81913757324219,93.9594955444336,94.76844024658203,94.06880187988281,93.42500305175781,92.59932708740234,92.76273345947266,93.59053039550781,96.31011962890625,98.95171356201172,101.3516845703125,102.95487976074219,103.7143325805664,104.10044860839844,104.25735473632812,104.36042022705078,104.61404418945312,104.951416015625,105.05829620361328,104.83395385742188,104.09573364257812,103.44757843017578,103.30372619628906,102.48323822021484,101.73641967773438,101.82805633544922,102.12619018554688,101.73822784423828,101.51618957519531,102.23180389404297,101.90814208984375,101.7601318359375,101.63705444335938,102.40802764892578,102.61922454833984,102.65608215332031,102.99960327148438,103.331298828125,102.77278137207031,102.1274185180664,101.65098571777344,101.4966049194336,101.38440704345703,101.32349395751953,101.197265625,101.36077880859375,101.59163665771484,102.00322723388672,103.26219940185547,105.6756591796875,107.71338653564453,109.4842300415039,110.81683349609375,111.89583587646484,112.22663116455078,112.34461212158203,112.17101287841797,112.52316284179688,112.9068603515625,113.30335235595703,113.45247650146484,113.47412109375,113.0983657836914,113.33102416992188,113.82029724121094,114.01947021484375,114.9950942993164,116.39483642578125,117.02323150634766,117.10630798339844,116.48824310302734,115.91452026367188,115.79656219482422,116.05351257324219,115.56378936767578,114.69929504394531,113.00730895996094,111.884521484375,111.88639831542969,112.41355895996094,112.6432876586914,112.84957122802734,113.45856475830078,113.8539047241211,114.9809341430664,116.04326629638672,117.03951263427734,117.49190521240234,117.56571960449219,117.81233978271484,117.88821411132812,117.58558654785156,117.86616516113281,118.3568115234375,118.74002075195312,119.11817932128906,119.7536392211914,120.22076416015625,120.7657699584961,120.89653778076172,120.69349670410156,120.69817352294922,120.31405639648438,120.38843536376953,120.71111297607422,120.97750091552734,121.2613296508789,121.47096252441406,121.60688781738281,121.60871887207031,121.51847076416016,121.51872253417969,122.30731964111328,123.36431121826172,124.29811096191406,124.54385375976562,124.64289855957031,125.0447769165039,125.51419830322266,126.1229476928711,126.26274871826172,126.22396087646484,125.48184967041016,125.18907928466797,125.45448303222656,126.06099700927734,127.87171173095703,129.78981018066406,130.6162872314453,132.0540771484375,133.1038360595703,133.4639129638672,133.5553436279297,133.73947143554688,133.75,134.03021240234375,134.15805053710938,134.54571533203125,134.857177734375,134.92269897460938,135.15623474121094,135.5055694580078,135.9501495361328,135.8381805419922,135.2860107421875,134.82785034179688,134.99815368652344,136.01358032226562,137.3114013671875,138.54672241210938,139.21922302246094,140.25112915039062,141.19898986816406,141.87725830078125,142.42308044433594,142.22445678710938,142.02932739257812,142.02272033691406,141.90830993652344,141.77528381347656,140.94293212890625,140.5960693359375,140.512451171875,141.0653839111328,141.3940887451172,140.81112670898438,139.59603881835938,138.6383056640625,138.35379028320312,138.5975341796875,139.2068328857422,139.425537109375,138.0436248779297,136.24832153320312,134.62887573242188,134.2991180419922,133.63082885742188,133.7633514404297,134.48321533203125,135.62783813476562,136.71031188964844,137.2141876220703,136.7257080078125,136.41256713867188,137.1859893798828,138.07810974121094,139.16290283203125,140.0980224609375,140.30618286132812,140.29486083984375,139.0140380859375,137.7622833251953,137.36058044433594,139.22483825683594,141.04495239257812,142.9894561767578,143.08047485351562,143.2305145263672,143.60028076171875,144.37937927246094,145.19375610351562,145.83349609375,146.2057342529297,145.55210876464844,144.81805419921875,145.06678771972656,145.4170684814453,145.56739807128906,145.67930603027344,146.2413787841797,146.47976684570312,145.8542022705078,145.06288146972656,144.53697204589844,143.1437225341797,142.90484619140625,141.98663330078125,140.9926300048828,140.78297424316406,140.56199645996094,140.75155639648438,142.1279296875,143.64390563964844,144.6047821044922,145.2296600341797,144.94361877441406,143.97994995117188,143.81776428222656,143.3238983154297,142.1856689453125,141.19625854492188,141.0369873046875,141.96127319335938,143.0467071533203,144.15084838867188,144.57518005371094,144.68882751464844,144.53558349609375,143.97764587402344,143.5241241455078,143.05892944335938,140.9156951904297,139.00254821777344,137.4547119140625,136.9244842529297,137.12896728515625,137.9698028564453,137.95584106445312,137.98683166503906,137.02053833007812,135.83853149414062,134.4148406982422,132.53091430664062,131.1847686767578,129.30967712402344,128.46661376953125,128.07481384277344,129.1433868408203,130.8623046875,132.94027709960938,137.4037322998047,139.7387237548828,140.92849731445312,140.2421417236328,139.30760192871094,139.130859375,138.38055419921875,136.56224060058594,135.3384552001953,134.89718627929688,135.13514709472656,134.08956909179688,132.4571990966797,130.93569946289062,129.25848388671875,129.41111755371094,130.5161895751953,131.78567504882812,132.4741973876953,132.93661499023438,132.98666381835938,132.3501434326172,130.19578552246094,128.4226531982422,128.9295654296875,129.6828155517578,129.66139221191406,128.37249755859375,127.95407104492188,128.9734344482422,130.2844696044922,131.96673583984375,133.2478485107422,135.0872039794922,136.0580596923828,137.43772888183594,138.5000457763672,139.11083984375,139.70394897460938,139.94200134277344,139.2297821044922,138.78732299804688,139.30050659179688,139.2615509033203,138.0238494873047,136.6573486328125,134.91151428222656,132.36752319335938,130.0377960205078,128.99761962890625,127.7700424194336,127.14171600341797,127.48987579345703,127.49263763427734,126.54414367675781,124.18417358398438,122.96524810791016,121.1847152709961,118.60604858398438,117.60001373291016,116.15259552001953,115.66859436035156,115.80828094482422,117.46035766601562,117.57646942138672,117.01895141601562,115.49475860595703,114.56373596191406,113.83244323730469,113.17742919921875,113.5890121459961,113.80099487304688,114.4624252319336,113.8505859375,112.6114273071289,111.08167266845703,110.53569030761719,108.99049377441406,107.51468658447266,106.95552062988281,108.06324005126953,109.84674072265625,111.43782806396484,113.5462875366211,114.38871002197266,115.21562957763672,115.85588836669922,116.26441955566406,115.84430694580078,114.2949447631836,111.53336334228516,109.17929077148438,108.35699462890625,107.29552459716797,106.77429962158203,107.74478149414062,108.95836639404297,110.15902709960938,112.57632446289062,114.13172912597656,113.9720230102539,113.20723724365234,111.68097686767578,110.24443817138672,110.40564727783203,111.4068832397461,113.58848571777344,115.71971130371094,116.26500701904297,115.71623229980469,114.22154235839844,112.54405212402344,111.6099624633789,110.4380874633789,110.8005142211914,111.59246063232422,112.4661636352539,111.4176025390625,109.93741607666016,108.00702667236328,108.55770874023438,110.09964752197266,112.17491912841797,113.47587585449219,114.24860382080078,115.40916442871094,116.37792205810547,116.826171875,116.93310546875,116.70743560791016,117.25765228271484,117.65422058105469,118.6834945678711,119.72252655029297,120.38428497314453,120.1628646850586,119.89472961425781,118.86607360839844,117.10122680664062,115.47611236572266,114.27521514892578,114.33606719970703,113.11410522460938,111.6121597290039,110.26544952392578,109.13371276855469,108.78453826904297,108.29522705078125,107.63565063476562,107.79314422607422,107.8936538696289,108.57096099853516,109.31068420410156,108.14321899414062,106.8408432006836,105.24114227294922,103.92882537841797,103.12483978271484,102.21022033691406,101.02410888671875,100.27786254882812,99.51275634765625,98.8027572631836,98.12468719482422,98.3053970336914,98.06267547607422,97.28694152832031,97.29489135742188,98.36652374267578,99.50080871582031],\"yaxis\":\"y\",\"type\":\"scattergl\"}],                        {\"template\":{\"data\":{\"bar\":[{\"error_x\":{\"color\":\"#2a3f5f\"},\"error_y\":{\"color\":\"#2a3f5f\"},\"marker\":{\"line\":{\"color\":\"#E5ECF6\",\"width\":0.5},\"pattern\":{\"fillmode\":\"overlay\",\"size\":10,\"solidity\":0.2}},\"type\":\"bar\"}],\"barpolar\":[{\"marker\":{\"line\":{\"color\":\"#E5ECF6\",\"width\":0.5},\"pattern\":{\"fillmode\":\"overlay\",\"size\":10,\"solidity\":0.2}},\"type\":\"barpolar\"}],\"carpet\":[{\"aaxis\":{\"endlinecolor\":\"#2a3f5f\",\"gridcolor\":\"white\",\"linecolor\":\"white\",\"minorgridcolor\":\"white\",\"startlinecolor\":\"#2a3f5f\"},\"baxis\":{\"endlinecolor\":\"#2a3f5f\",\"gridcolor\":\"white\",\"linecolor\":\"white\",\"minorgridcolor\":\"white\",\"startlinecolor\":\"#2a3f5f\"},\"type\":\"carpet\"}],\"choropleth\":[{\"colorbar\":{\"outlinewidth\":0,\"ticks\":\"\"},\"type\":\"choropleth\"}],\"contour\":[{\"colorbar\":{\"outlinewidth\":0,\"ticks\":\"\"},\"colorscale\":[[0.0,\"#0d0887\"],[0.1111111111111111,\"#46039f\"],[0.2222222222222222,\"#7201a8\"],[0.3333333333333333,\"#9c179e\"],[0.4444444444444444,\"#bd3786\"],[0.5555555555555556,\"#d8576b\"],[0.6666666666666666,\"#ed7953\"],[0.7777777777777778,\"#fb9f3a\"],[0.8888888888888888,\"#fdca26\"],[1.0,\"#f0f921\"]],\"type\":\"contour\"}],\"contourcarpet\":[{\"colorbar\":{\"outlinewidth\":0,\"ticks\":\"\"},\"type\":\"contourcarpet\"}],\"heatmap\":[{\"colorbar\":{\"outlinewidth\":0,\"ticks\":\"\"},\"colorscale\":[[0.0,\"#0d0887\"],[0.1111111111111111,\"#46039f\"],[0.2222222222222222,\"#7201a8\"],[0.3333333333333333,\"#9c179e\"],[0.4444444444444444,\"#bd3786\"],[0.5555555555555556,\"#d8576b\"],[0.6666666666666666,\"#ed7953\"],[0.7777777777777778,\"#fb9f3a\"],[0.8888888888888888,\"#fdca26\"],[1.0,\"#f0f921\"]],\"type\":\"heatmap\"}],\"heatmapgl\":[{\"colorbar\":{\"outlinewidth\":0,\"ticks\":\"\"},\"colorscale\":[[0.0,\"#0d0887\"],[0.1111111111111111,\"#46039f\"],[0.2222222222222222,\"#7201a8\"],[0.3333333333333333,\"#9c179e\"],[0.4444444444444444,\"#bd3786\"],[0.5555555555555556,\"#d8576b\"],[0.6666666666666666,\"#ed7953\"],[0.7777777777777778,\"#fb9f3a\"],[0.8888888888888888,\"#fdca26\"],[1.0,\"#f0f921\"]],\"type\":\"heatmapgl\"}],\"histogram\":[{\"marker\":{\"pattern\":{\"fillmode\":\"overlay\",\"size\":10,\"solidity\":0.2}},\"type\":\"histogram\"}],\"histogram2d\":[{\"colorbar\":{\"outlinewidth\":0,\"ticks\":\"\"},\"colorscale\":[[0.0,\"#0d0887\"],[0.1111111111111111,\"#46039f\"],[0.2222222222222222,\"#7201a8\"],[0.3333333333333333,\"#9c179e\"],[0.4444444444444444,\"#bd3786\"],[0.5555555555555556,\"#d8576b\"],[0.6666666666666666,\"#ed7953\"],[0.7777777777777778,\"#fb9f3a\"],[0.8888888888888888,\"#fdca26\"],[1.0,\"#f0f921\"]],\"type\":\"histogram2d\"}],\"histogram2dcontour\":[{\"colorbar\":{\"outlinewidth\":0,\"ticks\":\"\"},\"colorscale\":[[0.0,\"#0d0887\"],[0.1111111111111111,\"#46039f\"],[0.2222222222222222,\"#7201a8\"],[0.3333333333333333,\"#9c179e\"],[0.4444444444444444,\"#bd3786\"],[0.5555555555555556,\"#d8576b\"],[0.6666666666666666,\"#ed7953\"],[0.7777777777777778,\"#fb9f3a\"],[0.8888888888888888,\"#fdca26\"],[1.0,\"#f0f921\"]],\"type\":\"histogram2dcontour\"}],\"mesh3d\":[{\"colorbar\":{\"outlinewidth\":0,\"ticks\":\"\"},\"type\":\"mesh3d\"}],\"parcoords\":[{\"line\":{\"colorbar\":{\"outlinewidth\":0,\"ticks\":\"\"}},\"type\":\"parcoords\"}],\"pie\":[{\"automargin\":true,\"type\":\"pie\"}],\"scatter\":[{\"marker\":{\"colorbar\":{\"outlinewidth\":0,\"ticks\":\"\"}},\"type\":\"scatter\"}],\"scatter3d\":[{\"line\":{\"colorbar\":{\"outlinewidth\":0,\"ticks\":\"\"}},\"marker\":{\"colorbar\":{\"outlinewidth\":0,\"ticks\":\"\"}},\"type\":\"scatter3d\"}],\"scattercarpet\":[{\"marker\":{\"colorbar\":{\"outlinewidth\":0,\"ticks\":\"\"}},\"type\":\"scattercarpet\"}],\"scattergeo\":[{\"marker\":{\"colorbar\":{\"outlinewidth\":0,\"ticks\":\"\"}},\"type\":\"scattergeo\"}],\"scattergl\":[{\"marker\":{\"colorbar\":{\"outlinewidth\":0,\"ticks\":\"\"}},\"type\":\"scattergl\"}],\"scattermapbox\":[{\"marker\":{\"colorbar\":{\"outlinewidth\":0,\"ticks\":\"\"}},\"type\":\"scattermapbox\"}],\"scatterpolar\":[{\"marker\":{\"colorbar\":{\"outlinewidth\":0,\"ticks\":\"\"}},\"type\":\"scatterpolar\"}],\"scatterpolargl\":[{\"marker\":{\"colorbar\":{\"outlinewidth\":0,\"ticks\":\"\"}},\"type\":\"scatterpolargl\"}],\"scatterternary\":[{\"marker\":{\"colorbar\":{\"outlinewidth\":0,\"ticks\":\"\"}},\"type\":\"scatterternary\"}],\"surface\":[{\"colorbar\":{\"outlinewidth\":0,\"ticks\":\"\"},\"colorscale\":[[0.0,\"#0d0887\"],[0.1111111111111111,\"#46039f\"],[0.2222222222222222,\"#7201a8\"],[0.3333333333333333,\"#9c179e\"],[0.4444444444444444,\"#bd3786\"],[0.5555555555555556,\"#d8576b\"],[0.6666666666666666,\"#ed7953\"],[0.7777777777777778,\"#fb9f3a\"],[0.8888888888888888,\"#fdca26\"],[1.0,\"#f0f921\"]],\"type\":\"surface\"}],\"table\":[{\"cells\":{\"fill\":{\"color\":\"#EBF0F8\"},\"line\":{\"color\":\"white\"}},\"header\":{\"fill\":{\"color\":\"#C8D4E3\"},\"line\":{\"color\":\"white\"}},\"type\":\"table\"}]},\"layout\":{\"annotationdefaults\":{\"arrowcolor\":\"#2a3f5f\",\"arrowhead\":0,\"arrowwidth\":1},\"autotypenumbers\":\"strict\",\"coloraxis\":{\"colorbar\":{\"outlinewidth\":0,\"ticks\":\"\"}},\"colorscale\":{\"diverging\":[[0,\"#8e0152\"],[0.1,\"#c51b7d\"],[0.2,\"#de77ae\"],[0.3,\"#f1b6da\"],[0.4,\"#fde0ef\"],[0.5,\"#f7f7f7\"],[0.6,\"#e6f5d0\"],[0.7,\"#b8e186\"],[0.8,\"#7fbc41\"],[0.9,\"#4d9221\"],[1,\"#276419\"]],\"sequential\":[[0.0,\"#0d0887\"],[0.1111111111111111,\"#46039f\"],[0.2222222222222222,\"#7201a8\"],[0.3333333333333333,\"#9c179e\"],[0.4444444444444444,\"#bd3786\"],[0.5555555555555556,\"#d8576b\"],[0.6666666666666666,\"#ed7953\"],[0.7777777777777778,\"#fb9f3a\"],[0.8888888888888888,\"#fdca26\"],[1.0,\"#f0f921\"]],\"sequentialminus\":[[0.0,\"#0d0887\"],[0.1111111111111111,\"#46039f\"],[0.2222222222222222,\"#7201a8\"],[0.3333333333333333,\"#9c179e\"],[0.4444444444444444,\"#bd3786\"],[0.5555555555555556,\"#d8576b\"],[0.6666666666666666,\"#ed7953\"],[0.7777777777777778,\"#fb9f3a\"],[0.8888888888888888,\"#fdca26\"],[1.0,\"#f0f921\"]]},\"colorway\":[\"#636efa\",\"#EF553B\",\"#00cc96\",\"#ab63fa\",\"#FFA15A\",\"#19d3f3\",\"#FF6692\",\"#B6E880\",\"#FF97FF\",\"#FECB52\"],\"font\":{\"color\":\"#2a3f5f\"},\"geo\":{\"bgcolor\":\"white\",\"lakecolor\":\"white\",\"landcolor\":\"#E5ECF6\",\"showlakes\":true,\"showland\":true,\"subunitcolor\":\"white\"},\"hoverlabel\":{\"align\":\"left\"},\"hovermode\":\"closest\",\"mapbox\":{\"style\":\"light\"},\"paper_bgcolor\":\"white\",\"plot_bgcolor\":\"#E5ECF6\",\"polar\":{\"angularaxis\":{\"gridcolor\":\"white\",\"linecolor\":\"white\",\"ticks\":\"\"},\"bgcolor\":\"#E5ECF6\",\"radialaxis\":{\"gridcolor\":\"white\",\"linecolor\":\"white\",\"ticks\":\"\"}},\"scene\":{\"xaxis\":{\"backgroundcolor\":\"#E5ECF6\",\"gridcolor\":\"white\",\"gridwidth\":2,\"linecolor\":\"white\",\"showbackground\":true,\"ticks\":\"\",\"zerolinecolor\":\"white\"},\"yaxis\":{\"backgroundcolor\":\"#E5ECF6\",\"gridcolor\":\"white\",\"gridwidth\":2,\"linecolor\":\"white\",\"showbackground\":true,\"ticks\":\"\",\"zerolinecolor\":\"white\"},\"zaxis\":{\"backgroundcolor\":\"#E5ECF6\",\"gridcolor\":\"white\",\"gridwidth\":2,\"linecolor\":\"white\",\"showbackground\":true,\"ticks\":\"\",\"zerolinecolor\":\"white\"}},\"shapedefaults\":{\"line\":{\"color\":\"#2a3f5f\"}},\"ternary\":{\"aaxis\":{\"gridcolor\":\"white\",\"linecolor\":\"white\",\"ticks\":\"\"},\"baxis\":{\"gridcolor\":\"white\",\"linecolor\":\"white\",\"ticks\":\"\"},\"bgcolor\":\"#E5ECF6\",\"caxis\":{\"gridcolor\":\"white\",\"linecolor\":\"white\",\"ticks\":\"\"}},\"title\":{\"x\":0.05},\"xaxis\":{\"automargin\":true,\"gridcolor\":\"white\",\"linecolor\":\"white\",\"ticks\":\"\",\"title\":{\"standoff\":15},\"zerolinecolor\":\"white\",\"zerolinewidth\":2},\"yaxis\":{\"automargin\":true,\"gridcolor\":\"white\",\"linecolor\":\"white\",\"ticks\":\"\",\"title\":{\"standoff\":15},\"zerolinecolor\":\"white\",\"zerolinewidth\":2}}},\"xaxis\":{\"anchor\":\"y\",\"domain\":[0.0,1.0],\"title\":{\"text\":\"index\"}},\"yaxis\":{\"anchor\":\"x\",\"domain\":[0.0,1.0],\"title\":{\"text\":\"value\"}},\"legend\":{\"title\":{\"text\":\"variable\"},\"tracegroupgap\":0},\"title\":{\"text\":\"custom tick labels\"}},                        {\"responsive\": true}                    ).then(function(){\n",
              "                            \n",
              "var gd = document.getElementById('d17a8904-deca-4cb0-8508-048ab6dc901b');\n",
              "var x = new MutationObserver(function (mutations, observer) {{\n",
              "        var display = window.getComputedStyle(gd).display;\n",
              "        if (!display || display === 'none') {{\n",
              "            console.log([gd, 'removed!']);\n",
              "            Plotly.purge(gd);\n",
              "            observer.disconnect();\n",
              "        }}\n",
              "}});\n",
              "\n",
              "// Listen for the removal of the full notebook cells\n",
              "var notebookContainer = gd.closest('#notebook-container');\n",
              "if (notebookContainer) {{\n",
              "    x.observe(notebookContainer, {childList: true});\n",
              "}}\n",
              "\n",
              "// Listen for the clearing of the current output cell\n",
              "var outputEl = gd.closest('.output');\n",
              "if (outputEl) {{\n",
              "    x.observe(outputEl, {childList: true});\n",
              "}}\n",
              "\n",
              "                        })                };                            </script>        </div>\n",
              "</body>\n",
              "</html>"
            ]
          },
          "metadata": {}
        }
      ],
      "source": [
        "fig = px.line(new_df,\n",
        "              y=['y_real','predicted_price'],\n",
        "              title='custom tick labels')\n",
        "fig"
      ]
    },
    {
      "cell_type": "code",
      "execution_count": null,
      "id": "cc3c8961",
      "metadata": {
        "id": "cc3c8961"
      },
      "outputs": [],
      "source": []
    }
  ],
  "metadata": {
    "hide_input": false,
    "kernelspec": {
      "display_name": "Python 3 (ipykernel)",
      "language": "python",
      "name": "python3"
    },
    "language_info": {
      "codemirror_mode": {
        "name": "ipython",
        "version": 3
      },
      "file_extension": ".py",
      "mimetype": "text/x-python",
      "name": "python",
      "nbconvert_exporter": "python",
      "pygments_lexer": "ipython3",
      "version": "3.9.7"
    },
    "toc": {
      "base_numbering": 1,
      "nav_menu": {},
      "number_sections": true,
      "sideBar": true,
      "skip_h1_title": false,
      "title_cell": "Table of Contents",
      "title_sidebar": "Contents",
      "toc_cell": false,
      "toc_position": {},
      "toc_section_display": true,
      "toc_window_display": false
    },
    "colab": {
      "provenance": [],
      "collapsed_sections": []
    },
    "accelerator": "GPU"
  },
  "nbformat": 4,
  "nbformat_minor": 5
}