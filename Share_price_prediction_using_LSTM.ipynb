{
  "cells": [
    {
      "cell_type": "markdown",
      "metadata": {
        "id": "view-in-github",
        "colab_type": "text"
      },
      "source": [
        "<a href=\"https://colab.research.google.com/github/amitsiwach/Time_series_modelling/blob/main/Share_price_prediction_using_LSTM.ipynb\" target=\"_parent\"><img src=\"https://colab.research.google.com/assets/colab-badge.svg\" alt=\"Open In Colab\"/></a>"
      ]
    },
    {
      "cell_type": "code",
      "execution_count": 3,
      "id": "339564fc",
      "metadata": {
        "id": "339564fc"
      },
      "outputs": [],
      "source": [
        "import yfinance as yf\n",
        "import numpy as np\n",
        "import pandas as pd\n",
        "import tensorflow as tf\n",
        "import matplotlib.pyplot as plt\n",
        "import plotly.graph_objects as go\n",
        "import plotly.express as px"
      ]
    },
    {
      "cell_type": "code",
      "execution_count": 4,
      "id": "54cede73",
      "metadata": {
        "colab": {
          "base_uri": "https://localhost:8080/",
          "height": 255
        },
        "id": "54cede73",
        "outputId": "4c8d8c8b-09fa-46ff-a0d8-0cfe21e9b8a3"
      },
      "outputs": [
        {
          "output_type": "stream",
          "name": "stdout",
          "text": [
            "\r[*********************100%***********************]  1 of 1 completed\n"
          ]
        },
        {
          "output_type": "execute_result",
          "data": {
            "text/plain": [
              "                                Open       High        Low      Close  \\\n",
              "Date                                                                    \n",
              "2019-01-02 00:00:00-05:00  51.360001  53.039501  51.264000  52.734001   \n",
              "2019-01-03 00:00:00-05:00  52.533501  53.313000  51.118500  51.273499   \n",
              "2019-01-04 00:00:00-05:00  52.127998  54.000000  51.842999  53.903500   \n",
              "2019-01-07 00:00:00-05:00  54.048500  54.134998  53.132000  53.796001   \n",
              "2019-01-08 00:00:00-05:00  54.299999  54.667500  53.417500  54.268501   \n",
              "\n",
              "                           Adj Close    Volume  \n",
              "Date                                            \n",
              "2019-01-02 00:00:00-05:00  52.734001  31868000  \n",
              "2019-01-03 00:00:00-05:00  51.273499  41960000  \n",
              "2019-01-04 00:00:00-05:00  53.903500  46022000  \n",
              "2019-01-07 00:00:00-05:00  53.796001  47446000  \n",
              "2019-01-08 00:00:00-05:00  54.268501  35414000  "
            ],
            "text/html": [
              "\n",
              "  <div id=\"df-079ed24d-5d3c-4865-ab90-4cf1879684f0\">\n",
              "    <div class=\"colab-df-container\">\n",
              "      <div>\n",
              "<style scoped>\n",
              "    .dataframe tbody tr th:only-of-type {\n",
              "        vertical-align: middle;\n",
              "    }\n",
              "\n",
              "    .dataframe tbody tr th {\n",
              "        vertical-align: top;\n",
              "    }\n",
              "\n",
              "    .dataframe thead th {\n",
              "        text-align: right;\n",
              "    }\n",
              "</style>\n",
              "<table border=\"1\" class=\"dataframe\">\n",
              "  <thead>\n",
              "    <tr style=\"text-align: right;\">\n",
              "      <th></th>\n",
              "      <th>Open</th>\n",
              "      <th>High</th>\n",
              "      <th>Low</th>\n",
              "      <th>Close</th>\n",
              "      <th>Adj Close</th>\n",
              "      <th>Volume</th>\n",
              "    </tr>\n",
              "    <tr>\n",
              "      <th>Date</th>\n",
              "      <th></th>\n",
              "      <th></th>\n",
              "      <th></th>\n",
              "      <th></th>\n",
              "      <th></th>\n",
              "      <th></th>\n",
              "    </tr>\n",
              "  </thead>\n",
              "  <tbody>\n",
              "    <tr>\n",
              "      <th>2019-01-02 00:00:00-05:00</th>\n",
              "      <td>51.360001</td>\n",
              "      <td>53.039501</td>\n",
              "      <td>51.264000</td>\n",
              "      <td>52.734001</td>\n",
              "      <td>52.734001</td>\n",
              "      <td>31868000</td>\n",
              "    </tr>\n",
              "    <tr>\n",
              "      <th>2019-01-03 00:00:00-05:00</th>\n",
              "      <td>52.533501</td>\n",
              "      <td>53.313000</td>\n",
              "      <td>51.118500</td>\n",
              "      <td>51.273499</td>\n",
              "      <td>51.273499</td>\n",
              "      <td>41960000</td>\n",
              "    </tr>\n",
              "    <tr>\n",
              "      <th>2019-01-04 00:00:00-05:00</th>\n",
              "      <td>52.127998</td>\n",
              "      <td>54.000000</td>\n",
              "      <td>51.842999</td>\n",
              "      <td>53.903500</td>\n",
              "      <td>53.903500</td>\n",
              "      <td>46022000</td>\n",
              "    </tr>\n",
              "    <tr>\n",
              "      <th>2019-01-07 00:00:00-05:00</th>\n",
              "      <td>54.048500</td>\n",
              "      <td>54.134998</td>\n",
              "      <td>53.132000</td>\n",
              "      <td>53.796001</td>\n",
              "      <td>53.796001</td>\n",
              "      <td>47446000</td>\n",
              "    </tr>\n",
              "    <tr>\n",
              "      <th>2019-01-08 00:00:00-05:00</th>\n",
              "      <td>54.299999</td>\n",
              "      <td>54.667500</td>\n",
              "      <td>53.417500</td>\n",
              "      <td>54.268501</td>\n",
              "      <td>54.268501</td>\n",
              "      <td>35414000</td>\n",
              "    </tr>\n",
              "  </tbody>\n",
              "</table>\n",
              "</div>\n",
              "      <button class=\"colab-df-convert\" onclick=\"convertToInteractive('df-079ed24d-5d3c-4865-ab90-4cf1879684f0')\"\n",
              "              title=\"Convert this dataframe to an interactive table.\"\n",
              "              style=\"display:none;\">\n",
              "        \n",
              "  <svg xmlns=\"http://www.w3.org/2000/svg\" height=\"24px\"viewBox=\"0 0 24 24\"\n",
              "       width=\"24px\">\n",
              "    <path d=\"M0 0h24v24H0V0z\" fill=\"none\"/>\n",
              "    <path d=\"M18.56 5.44l.94 2.06.94-2.06 2.06-.94-2.06-.94-.94-2.06-.94 2.06-2.06.94zm-11 1L8.5 8.5l.94-2.06 2.06-.94-2.06-.94L8.5 2.5l-.94 2.06-2.06.94zm10 10l.94 2.06.94-2.06 2.06-.94-2.06-.94-.94-2.06-.94 2.06-2.06.94z\"/><path d=\"M17.41 7.96l-1.37-1.37c-.4-.4-.92-.59-1.43-.59-.52 0-1.04.2-1.43.59L10.3 9.45l-7.72 7.72c-.78.78-.78 2.05 0 2.83L4 21.41c.39.39.9.59 1.41.59.51 0 1.02-.2 1.41-.59l7.78-7.78 2.81-2.81c.8-.78.8-2.07 0-2.86zM5.41 20L4 18.59l7.72-7.72 1.47 1.35L5.41 20z\"/>\n",
              "  </svg>\n",
              "      </button>\n",
              "      \n",
              "  <style>\n",
              "    .colab-df-container {\n",
              "      display:flex;\n",
              "      flex-wrap:wrap;\n",
              "      gap: 12px;\n",
              "    }\n",
              "\n",
              "    .colab-df-convert {\n",
              "      background-color: #E8F0FE;\n",
              "      border: none;\n",
              "      border-radius: 50%;\n",
              "      cursor: pointer;\n",
              "      display: none;\n",
              "      fill: #1967D2;\n",
              "      height: 32px;\n",
              "      padding: 0 0 0 0;\n",
              "      width: 32px;\n",
              "    }\n",
              "\n",
              "    .colab-df-convert:hover {\n",
              "      background-color: #E2EBFA;\n",
              "      box-shadow: 0px 1px 2px rgba(60, 64, 67, 0.3), 0px 1px 3px 1px rgba(60, 64, 67, 0.15);\n",
              "      fill: #174EA6;\n",
              "    }\n",
              "\n",
              "    [theme=dark] .colab-df-convert {\n",
              "      background-color: #3B4455;\n",
              "      fill: #D2E3FC;\n",
              "    }\n",
              "\n",
              "    [theme=dark] .colab-df-convert:hover {\n",
              "      background-color: #434B5C;\n",
              "      box-shadow: 0px 1px 3px 1px rgba(0, 0, 0, 0.15);\n",
              "      filter: drop-shadow(0px 1px 2px rgba(0, 0, 0, 0.3));\n",
              "      fill: #FFFFFF;\n",
              "    }\n",
              "  </style>\n",
              "\n",
              "      <script>\n",
              "        const buttonEl =\n",
              "          document.querySelector('#df-079ed24d-5d3c-4865-ab90-4cf1879684f0 button.colab-df-convert');\n",
              "        buttonEl.style.display =\n",
              "          google.colab.kernel.accessAllowed ? 'block' : 'none';\n",
              "\n",
              "        async function convertToInteractive(key) {\n",
              "          const element = document.querySelector('#df-079ed24d-5d3c-4865-ab90-4cf1879684f0');\n",
              "          const dataTable =\n",
              "            await google.colab.kernel.invokeFunction('convertToInteractive',\n",
              "                                                     [key], {});\n",
              "          if (!dataTable) return;\n",
              "\n",
              "          const docLinkHtml = 'Like what you see? Visit the ' +\n",
              "            '<a target=\"_blank\" href=https://colab.research.google.com/notebooks/data_table.ipynb>data table notebook</a>'\n",
              "            + ' to learn more about interactive tables.';\n",
              "          element.innerHTML = '';\n",
              "          dataTable['output_type'] = 'display_data';\n",
              "          await google.colab.output.renderOutput(dataTable, element);\n",
              "          const docLink = document.createElement('div');\n",
              "          docLink.innerHTML = docLinkHtml;\n",
              "          element.appendChild(docLink);\n",
              "        }\n",
              "      </script>\n",
              "    </div>\n",
              "  </div>\n",
              "  "
            ]
          },
          "metadata": {},
          "execution_count": 4
        }
      ],
      "source": [
        "data = yf.download(\"GOOGL\" , start = \"2019-01-01\" , interval = '1d')\n",
        "data.head()"
      ]
    },
    {
      "cell_type": "code",
      "execution_count": 5,
      "id": "6fe04603",
      "metadata": {
        "colab": {
          "base_uri": "https://localhost:8080/"
        },
        "id": "6fe04603",
        "outputId": "f8474058-7583-4027-ad08-b477a7264587"
      },
      "outputs": [
        {
          "output_type": "stream",
          "name": "stdout",
          "text": [
            "<class 'pandas.core.frame.DataFrame'>\n",
            "DatetimeIndex: 951 entries, 2019-01-02 00:00:00-05:00 to 2022-10-10 00:00:00-04:00\n",
            "Data columns (total 6 columns):\n",
            " #   Column     Non-Null Count  Dtype  \n",
            "---  ------     --------------  -----  \n",
            " 0   Open       951 non-null    float64\n",
            " 1   High       951 non-null    float64\n",
            " 2   Low        951 non-null    float64\n",
            " 3   Close      951 non-null    float64\n",
            " 4   Adj Close  951 non-null    float64\n",
            " 5   Volume     951 non-null    int64  \n",
            "dtypes: float64(5), int64(1)\n",
            "memory usage: 52.0 KB\n"
          ]
        }
      ],
      "source": [
        "data.info()"
      ]
    },
    {
      "cell_type": "code",
      "execution_count": 6,
      "id": "f3f2a2ef",
      "metadata": {
        "colab": {
          "base_uri": "https://localhost:8080/"
        },
        "id": "f3f2a2ef",
        "outputId": "665e60e1-6013-4f55-8dc7-eb89873d2f98"
      },
      "outputs": [
        {
          "output_type": "execute_result",
          "data": {
            "text/plain": [
              "0"
            ]
          },
          "metadata": {},
          "execution_count": 6
        }
      ],
      "source": [
        "data[\"Close\"]=pd.to_numeric(data.Close,errors='coerce')\n",
        "data.isnull().sum().sum()"
      ]
    },
    {
      "cell_type": "code",
      "execution_count": 7,
      "id": "aa2acf3a",
      "metadata": {
        "colab": {
          "base_uri": "https://localhost:8080/",
          "height": 265
        },
        "id": "aa2acf3a",
        "outputId": "d0251a2c-d887-47b2-c50f-b0ad6d54d916"
      },
      "outputs": [
        {
          "output_type": "display_data",
          "data": {
            "text/plain": [
              "<Figure size 432x288 with 1 Axes>"
            ],
            "image/png": "[encoded data removed]"
          },
          "metadata": {
            "needs_background": "light"
          }
        }
      ],
      "source": [
        "plt.plot(data.index, data['Close'], color='green', label='Close')\n",
        "plt.show()"
      ]
    },
    {
      "cell_type": "code",
      "execution_count": 8,
      "id": "7de8df16",
      "metadata": {
        "id": "7de8df16"
      },
      "outputs": [],
      "source": [
        "dataV1 = data.iloc[:,3:4]\n",
        "dataV1 = dataV1.values"
      ]
    },
    {
      "cell_type": "code",
      "execution_count": 9,
      "id": "98d247d9",
      "metadata": {
        "id": "98d247d9"
      },
      "outputs": [],
      "source": [
        "from sklearn.preprocessing import MinMaxScaler\n",
        "Scaler = MinMaxScaler(feature_range=(0,1))\n",
        "dataV1 = Scaler.fit_transform(dataV1)"
      ]
    },
    {
      "cell_type": "code",
      "execution_count": 10,
      "id": "fbcd8350",
      "metadata": {
        "id": "fbcd8350"
      },
      "outputs": [],
      "source": [
        "feature_length = 100"
      ]
    },
    {
      "cell_type": "code",
      "execution_count": 11,
      "id": "85d73b27",
      "metadata": {
        "id": "85d73b27"
      },
      "outputs": [],
      "source": [
        "# Function to create x and y data\n",
        "def Create_Features_and_Targets(data, feature_length):\n",
        "    X = list()\n",
        "    Y = list()\n",
        "    for i in range(len(data) - feature_length -1):\n",
        "        X.append(data[i:(i + feature_length), 0])\n",
        "        Y.append(data[i + feature_length, 0])\n",
        "        \n",
        "    X = np.array(X)\n",
        "    Y = np.array(Y)\n",
        "    return X,Y\n",
        "\n",
        "# calling the function\n",
        "X_train,y_train= Create_Features_and_Targets(dataV1,feature_length)"
      ]
    },
    {
      "cell_type": "code",
      "execution_count": 12,
      "id": "a55ad9e7",
      "metadata": {
        "colab": {
          "base_uri": "https://localhost:8080/"
        },
        "id": "a55ad9e7",
        "outputId": "d0a48c49-a377-481d-e68a-08a4db4c9b01"
      },
      "outputs": [
        {
          "output_type": "execute_result",
          "data": {
            "text/plain": [
              "((850, 100, 1), (850,))"
            ]
          },
          "metadata": {},
          "execution_count": 12
        }
      ],
      "source": [
        "X_train = np.reshape(X_train,(X_train.shape[0],X_train.shape[1],1))\n",
        "X_train.shape, y_train.shape"
      ]
    },
    {
      "cell_type": "code",
      "execution_count": 13,
      "id": "1806c118",
      "metadata": {
        "id": "1806c118"
      },
      "outputs": [],
      "source": [
        "from tensorflow.keras.models import Sequential\n",
        "from tensorflow.keras.layers import Dense , Dropout , LSTM"
      ]
    },
    {
      "cell_type": "code",
      "execution_count": 14,
      "id": "15d4632a",
      "metadata": {
        "colab": {
          "base_uri": "https://localhost:8080/"
        },
        "id": "15d4632a",
        "outputId": "338496ea-65d1-48b3-a4bb-523335b57a69"
      },
      "outputs": [
        {
          "output_type": "stream",
          "name": "stdout",
          "text": [
            "Model: \"sequential\"\n",
            "_________________________________________________________________\n",
            " Layer (type)                Output Shape              Param #   \n",
            "=================================================================\n",
            " lstm (LSTM)                 (None, 100, 100)          40800     \n",
            "                                                                 \n",
            " dropout (Dropout)           (None, 100, 100)          0         \n",
            "                                                                 \n",
            " lstm_1 (LSTM)               (None, 100)               80400     \n",
            "                                                                 \n",
            " dropout_1 (Dropout)         (None, 100)               0         \n",
            "                                                                 \n",
            " dense (Dense)               (None, 1)                 101       \n",
            "                                                                 \n",
            "=================================================================\n",
            "Total params: 121,301\n",
            "Trainable params: 121,301\n",
            "Non-trainable params: 0\n",
            "_________________________________________________________________\n"
          ]
        }
      ],
      "source": [
        "# model\n",
        "model = Sequential([\n",
        "   LSTM(100,return_sequences=True,input_shape=(X_train.shape[1],1)),\n",
        "   Dropout(0.3),\n",
        "   LSTM(100, return_sequences = False),\n",
        "   Dropout(0.3),\n",
        "    \n",
        "   Dense(1),\n",
        "])\n",
        "model.compile(optimizer='adam',loss=\"mean_squared_error\")\n",
        "model.summary()"
      ]
    },
    {
      "cell_type": "code",
      "execution_count": 15,
      "id": "cf99475b",
      "metadata": {
        "scrolled": true,
        "colab": {
          "base_uri": "https://localhost:8080/"
        },
        "id": "cf99475b",
        "outputId": "8244ad6d-98ab-48d0-d24d-e152425de735"
      },
      "outputs": [
        {
          "output_type": "stream",
          "name": "stdout",
          "text": [
            "Epoch 1/50\n",
            "71/71 [==============================] - 9s 14ms/step - loss: 0.0201\n",
            "Epoch 2/50\n",
            "71/71 [==============================] - 1s 13ms/step - loss: 0.0044\n",
            "Epoch 3/50\n",
            "71/71 [==============================] - 1s 13ms/step - loss: 0.0039\n",
            "Epoch 4/50\n",
            "71/71 [==============================] - 1s 13ms/step - loss: 0.0032\n",
            "Epoch 5/50\n",
            "71/71 [==============================] - 1s 13ms/step - loss: 0.0041\n",
            "Epoch 6/50\n",
            "71/71 [==============================] - 1s 12ms/step - loss: 0.0045\n",
            "Epoch 7/50\n",
            "71/71 [==============================] - 1s 12ms/step - loss: 0.0040\n",
            "Epoch 8/50\n",
            "71/71 [==============================] - 1s 12ms/step - loss: 0.0046\n",
            "Epoch 9/50\n",
            "71/71 [==============================] - 1s 12ms/step - loss: 0.0033\n",
            "Epoch 10/50\n",
            "71/71 [==============================] - 1s 12ms/step - loss: 0.0034\n",
            "Epoch 11/50\n",
            "71/71 [==============================] - 1s 12ms/step - loss: 0.0031\n",
            "Epoch 12/50\n",
            "71/71 [==============================] - 1s 12ms/step - loss: 0.0028\n",
            "Epoch 13/50\n",
            "71/71 [==============================] - 1s 12ms/step - loss: 0.0030\n",
            "Epoch 14/50\n",
            "71/71 [==============================] - 1s 12ms/step - loss: 0.0027\n",
            "Epoch 15/50\n",
            "71/71 [==============================] - 1s 12ms/step - loss: 0.0030\n",
            "Epoch 16/50\n",
            "71/71 [==============================] - 1s 12ms/step - loss: 0.0025\n",
            "Epoch 17/50\n",
            "71/71 [==============================] - 1s 12ms/step - loss: 0.0029\n",
            "Epoch 18/50\n",
            "71/71 [==============================] - 1s 12ms/step - loss: 0.0025\n",
            "Epoch 19/50\n",
            "71/71 [==============================] - 1s 13ms/step - loss: 0.0025\n",
            "Epoch 20/50\n",
            "71/71 [==============================] - 1s 12ms/step - loss: 0.0024\n",
            "Epoch 21/50\n",
            "71/71 [==============================] - 1s 12ms/step - loss: 0.0030\n",
            "Epoch 22/50\n",
            "71/71 [==============================] - 1s 12ms/step - loss: 0.0022\n",
            "Epoch 23/50\n",
            "71/71 [==============================] - 1s 12ms/step - loss: 0.0025\n",
            "Epoch 24/50\n",
            "71/71 [==============================] - 1s 12ms/step - loss: 0.0026\n",
            "Epoch 25/50\n",
            "71/71 [==============================] - 1s 12ms/step - loss: 0.0022\n",
            "Epoch 26/50\n",
            "71/71 [==============================] - 1s 13ms/step - loss: 0.0023\n",
            "Epoch 27/50\n",
            "71/71 [==============================] - 1s 13ms/step - loss: 0.0022\n",
            "Epoch 28/50\n",
            "71/71 [==============================] - 1s 12ms/step - loss: 0.0020\n",
            "Epoch 29/50\n",
            "71/71 [==============================] - 1s 12ms/step - loss: 0.0025\n",
            "Epoch 30/50\n",
            "71/71 [==============================] - 1s 13ms/step - loss: 0.0023\n",
            "Epoch 31/50\n",
            "71/71 [==============================] - 2s 27ms/step - loss: 0.0021\n",
            "Epoch 32/50\n",
            "71/71 [==============================] - 1s 15ms/step - loss: 0.0020\n",
            "Epoch 33/50\n",
            "71/71 [==============================] - 1s 13ms/step - loss: 0.0019\n",
            "Epoch 34/50\n",
            "71/71 [==============================] - 1s 12ms/step - loss: 0.0019\n",
            "Epoch 35/50\n",
            "71/71 [==============================] - 1s 12ms/step - loss: 0.0020\n",
            "Epoch 36/50\n",
            "71/71 [==============================] - 1s 12ms/step - loss: 0.0022\n",
            "Epoch 37/50\n",
            "71/71 [==============================] - 1s 12ms/step - loss: 0.0022\n",
            "Epoch 38/50\n",
            "71/71 [==============================] - 1s 12ms/step - loss: 0.0019\n",
            "Epoch 39/50\n",
            "71/71 [==============================] - 1s 13ms/step - loss: 0.0018\n",
            "Epoch 40/50\n",
            "71/71 [==============================] - 1s 13ms/step - loss: 0.0019\n",
            "Epoch 41/50\n",
            "71/71 [==============================] - 1s 14ms/step - loss: 0.0023\n",
            "Epoch 42/50\n",
            "71/71 [==============================] - 1s 13ms/step - loss: 0.0018\n",
            "Epoch 43/50\n",
            "71/71 [==============================] - 1s 12ms/step - loss: 0.0021\n",
            "Epoch 44/50\n",
            "71/71 [==============================] - 1s 12ms/step - loss: 0.0017\n",
            "Epoch 45/50\n",
            "71/71 [==============================] - 1s 12ms/step - loss: 0.0018\n",
            "Epoch 46/50\n",
            "71/71 [==============================] - 1s 13ms/step - loss: 0.0017\n",
            "Epoch 47/50\n",
            "71/71 [==============================] - 1s 13ms/step - loss: 0.0018\n",
            "Epoch 48/50\n",
            "71/71 [==============================] - 1s 13ms/step - loss: 0.0015\n",
            "Epoch 49/50\n",
            "71/71 [==============================] - 1s 12ms/step - loss: 0.0015\n",
            "Epoch 50/50\n",
            "71/71 [==============================] - 1s 12ms/step - loss: 0.0017\n"
          ]
        }
      ],
      "source": [
        "# Training the model\n",
        "history = model.fit(\n",
        "    X_train, \n",
        "    y_train, \n",
        "    epochs =50, \n",
        "    batch_size = 12, \n",
        "    verbose=1,\n",
        ")"
      ]
    },
    {
      "cell_type": "code",
      "execution_count": 16,
      "id": "61d60ee2",
      "metadata": {
        "id": "61d60ee2"
      },
      "outputs": [],
      "source": [
        "testData = data.iloc[:,3:4] # Get 'Close' feature\n",
        "y_real=testData.iloc[feature_length+1:,0:].values #Actual values\n",
        "x_test = testData.iloc[:,0:].values # data to test\n",
        "# normalizing the Data using Scaler.transform function\n",
        "x_test = Scaler.transform(x_test)\n",
        "x_test, y_test = Create_Features_and_Targets(x_test, feature_length)\n",
        "# Making data 3 dimensional\n",
        "x_test = np.reshape(x_test,(x_test.shape[0],x_test.shape[1],1))"
      ]
    },
    {
      "cell_type": "code",
      "execution_count": 17,
      "id": "f8ea2a66",
      "metadata": {
        "id": "f8ea2a66"
      },
      "outputs": [],
      "source": [
        "y_pred = model.predict(x_test)\n",
        "predicted_price = Scaler.inverse_transform(y_pred)"
      ]
    },
    {
      "cell_type": "code",
      "execution_count": 18,
      "id": "e38d7b84",
      "metadata": {
        "scrolled": true,
        "colab": {
          "base_uri": "https://localhost:8080/",
          "height": 279
        },
        "id": "e38d7b84",
        "outputId": "5e12afba-11ed-43fc-bf4b-9bd47140ad40"
      },
      "outputs": [
        {
          "output_type": "display_data",
          "data": {
            "text/plain": [
              "<Figure size 432x288 with 1 Axes>"
            ],
            "image/png": "[encoded data removed]"
          },
          "metadata": {
            "needs_background": "light"
          }
        }
      ],
      "source": [
        "plt.plot(y_real, color = 'red', label = 'Actual')\n",
        "plt.plot(predicted_price, color = 'green', label = 'Predicted')\n",
        "plt.xlabel('Time')\n",
        "plt.ylabel('Stock')\n",
        "plt.legend()\n",
        "plt.show()"
      ]
    },
    {
      "cell_type": "code",
      "execution_count": 19,
      "id": "6f6a01b8",
      "metadata": {
        "scrolled": true,
        "id": "6f6a01b8"
      },
      "outputs": [],
      "source": [
        "new_df = pd.DataFrame(y_real, columns=[\"y_real\"])"
      ]
    },
    {
      "cell_type": "code",
      "execution_count": 20,
      "id": "ff3793fe",
      "metadata": {
        "colab": {
          "base_uri": "https://localhost:8080/",
          "height": 206
        },
        "id": "ff3793fe",
        "outputId": "221632c5-8110-4ca2-9002-5023d4a871da"
      },
      "outputs": [
        {
          "output_type": "execute_result",
          "data": {
            "text/plain": [
              "      y_real\n",
              "0  55.997002\n",
              "1  56.070499\n",
              "2  55.325001\n",
              "3  51.937000\n",
              "4  52.724499"
            ],
            "text/html": [
              "\n",
              "  <div id=\"df-925c91af-1fcf-4379-9f0a-49f6947731e0\">\n",
              "    <div class=\"colab-df-container\">\n",
              "      <div>\n",
              "<style scoped>\n",
              "    .dataframe tbody tr th:only-of-type {\n",
              "        vertical-align: middle;\n",
              "    }\n",
              "\n",
              "    .dataframe tbody tr th {\n",
              "        vertical-align: top;\n",
              "    }\n",
              "\n",
              "    .dataframe thead th {\n",
              "        text-align: right;\n",
              "    }\n",
              "</style>\n",
              "<table border=\"1\" class=\"dataframe\">\n",
              "  <thead>\n",
              "    <tr style=\"text-align: right;\">\n",
              "      <th></th>\n",
              "      <th>y_real</th>\n",
              "    </tr>\n",
              "  </thead>\n",
              "  <tbody>\n",
              "    <tr>\n",
              "      <th>0</th>\n",
              "      <td>55.997002</td>\n",
              "    </tr>\n",
              "    <tr>\n",
              "      <th>1</th>\n",
              "      <td>56.070499</td>\n",
              "    </tr>\n",
              "    <tr>\n",
              "      <th>2</th>\n",
              "      <td>55.325001</td>\n",
              "    </tr>\n",
              "    <tr>\n",
              "      <th>3</th>\n",
              "      <td>51.937000</td>\n",
              "    </tr>\n",
              "    <tr>\n",
              "      <th>4</th>\n",
              "      <td>52.724499</td>\n",
              "    </tr>\n",
              "  </tbody>\n",
              "</table>\n",
              "</div>\n",
              "      <button class=\"colab-df-convert\" onclick=\"convertToInteractive('df-925c91af-1fcf-4379-9f0a-49f6947731e0')\"\n",
              "              title=\"Convert this dataframe to an interactive table.\"\n",
              "              style=\"display:none;\">\n",
              "        \n",
              "  <svg xmlns=\"http://www.w3.org/2000/svg\" height=\"24px\"viewBox=\"0 0 24 24\"\n",
              "       width=\"24px\">\n",
              "    <path d=\"M0 0h24v24H0V0z\" fill=\"none\"/>\n",
              "    <path d=\"M18.56 5.44l.94 2.06.94-2.06 2.06-.94-2.06-.94-.94-2.06-.94 2.06-2.06.94zm-11 1L8.5 8.5l.94-2.06 2.06-.94-2.06-.94L8.5 2.5l-.94 2.06-2.06.94zm10 10l.94 2.06.94-2.06 2.06-.94-2.06-.94-.94-2.06-.94 2.06-2.06.94z\"/><path d=\"M17.41 7.96l-1.37-1.37c-.4-.4-.92-.59-1.43-.59-.52 0-1.04.2-1.43.59L10.3 9.45l-7.72 7.72c-.78.78-.78 2.05 0 2.83L4 21.41c.39.39.9.59 1.41.59.51 0 1.02-.2 1.41-.59l7.78-7.78 2.81-2.81c.8-.78.8-2.07 0-2.86zM5.41 20L4 18.59l7.72-7.72 1.47 1.35L5.41 20z\"/>\n",
              "  </svg>\n",
              "      </button>\n",
              "      \n",
              "  <style>\n",
              "    .colab-df-container {\n",
              "      display:flex;\n",
              "      flex-wrap:wrap;\n",
              "      gap: 12px;\n",
              "    }\n",
              "\n",
              "    .colab-df-convert {\n",
              "      background-color: #E8F0FE;\n",
              "      border: none;\n",
              "      border-radius: 50%;\n",
              "      cursor: pointer;\n",
              "      display: none;\n",
              "      fill: #1967D2;\n",
              "      height: 32px;\n",
              "      padding: 0 0 0 0;\n",
              "      width: 32px;\n",
              "    }\n",
              "\n",
              "    .colab-df-convert:hover {\n",
              "      background-color: #E2EBFA;\n",
              "      box-shadow: 0px 1px 2px rgba(60, 64, 67, 0.3), 0px 1px 3px 1px rgba(60, 64, 67, 0.15);\n",
              "      fill: #174EA6;\n",
              "    }\n",
              "\n",
              "    [theme=dark] .colab-df-convert {\n",
              "      background-color: #3B4455;\n",
              "      fill: #D2E3FC;\n",
              "    }\n",
              "\n",
              "    [theme=dark] .colab-df-convert:hover {\n",
              "      background-color: #434B5C;\n",
              "      box-shadow: 0px 1px 3px 1px rgba(0, 0, 0, 0.15);\n",
              "      filter: drop-shadow(0px 1px 2px rgba(0, 0, 0, 0.3));\n",
              "      fill: #FFFFFF;\n",
              "    }\n",
              "  </style>\n",
              "\n",
              "      <script>\n",
              "        const buttonEl =\n",
              "          document.querySelector('#df-925c91af-1fcf-4379-9f0a-49f6947731e0 button.colab-df-convert');\n",
              "        buttonEl.style.display =\n",
              "          google.colab.kernel.accessAllowed ? 'block' : 'none';\n",
              "\n",
              "        async function convertToInteractive(key) {\n",
              "          const element = document.querySelector('#df-925c91af-1fcf-4379-9f0a-49f6947731e0');\n",
              "          const dataTable =\n",
              "            await google.colab.kernel.invokeFunction('convertToInteractive',\n",
              "                                                     [key], {});\n",
              "          if (!dataTable) return;\n",
              "\n",
              "          const docLinkHtml = 'Like what you see? Visit the ' +\n",
              "            '<a target=\"_blank\" href=https://colab.research.google.com/notebooks/data_table.ipynb>data table notebook</a>'\n",
              "            + ' to learn more about interactive tables.';\n",
              "          element.innerHTML = '';\n",
              "          dataTable['output_type'] = 'display_data';\n",
              "          await google.colab.output.renderOutput(dataTable, element);\n",
              "          const docLink = document.createElement('div');\n",
              "          docLink.innerHTML = docLinkHtml;\n",
              "          element.appendChild(docLink);\n",
              "        }\n",
              "      </script>\n",
              "    </div>\n",
              "  </div>\n",
              "  "
            ]
          },
          "metadata": {},
          "execution_count": 20
        }
      ],
      "source": [
        "new_df.head()"
      ]
    },
    {
      "cell_type": "code",
      "execution_count": 21,
      "id": "aadc5d9a",
      "metadata": {
        "scrolled": true,
        "id": "aadc5d9a"
      },
      "outputs": [],
      "source": [
        "new_df['predicted_price'] = predicted_price"
      ]
    },
    {
      "cell_type": "code",
      "execution_count": 22,
      "id": "b97d0729",
      "metadata": {
        "colab": {
          "base_uri": "https://localhost:8080/",
          "height": 206
        },
        "id": "b97d0729",
        "outputId": "8ebe7896-630a-4f8d-bfd1-2efb21660db1"
      },
      "outputs": [
        {
          "output_type": "execute_result",
          "data": {
            "text/plain": [
              "      y_real  predicted_price\n",
              "0  55.997002        57.478767\n",
              "1  56.070499        57.241665\n",
              "2  55.325001        56.819023\n",
              "3  51.937000        56.438168\n",
              "4  52.724499        55.972408"
            ],
            "text/html": [
              "\n",
              "  <div id=\"df-bc26eaa0-e03f-43e0-a1f4-e7b326d828c7\">\n",
              "    <div class=\"colab-df-container\">\n",
              "      <div>\n",
              "<style scoped>\n",
              "    .dataframe tbody tr th:only-of-type {\n",
              "        vertical-align: middle;\n",
              "    }\n",
              "\n",
              "    .dataframe tbody tr th {\n",
              "        vertical-align: top;\n",
              "    }\n",
              "\n",
              "    .dataframe thead th {\n",
              "        text-align: right;\n",
              "    }\n",
              "</style>\n",
              "<table border=\"1\" class=\"dataframe\">\n",
              "  <thead>\n",
              "    <tr style=\"text-align: right;\">\n",
              "      <th></th>\n",
              "      <th>y_real</th>\n",
              "      <th>predicted_price</th>\n",
              "    </tr>\n",
              "  </thead>\n",
              "  <tbody>\n",
              "    <tr>\n",
              "      <th>0</th>\n",
              "      <td>55.997002</td>\n",
              "      <td>57.478767</td>\n",
              "    </tr>\n",
              "    <tr>\n",
              "      <th>1</th>\n",
              "      <td>56.070499</td>\n",
              "      <td>57.241665</td>\n",
              "    </tr>\n",
              "    <tr>\n",
              "      <th>2</th>\n",
              "      <td>55.325001</td>\n",
              "      <td>56.819023</td>\n",
              "    </tr>\n",
              "    <tr>\n",
              "      <th>3</th>\n",
              "      <td>51.937000</td>\n",
              "      <td>56.438168</td>\n",
              "    </tr>\n",
              "    <tr>\n",
              "      <th>4</th>\n",
              "      <td>52.724499</td>\n",
              "      <td>55.972408</td>\n",
              "    </tr>\n",
              "  </tbody>\n",
              "</table>\n",
              "</div>\n",
              "      <button class=\"colab-df-convert\" onclick=\"convertToInteractive('df-bc26eaa0-e03f-43e0-a1f4-e7b326d828c7')\"\n",
              "              title=\"Convert this dataframe to an interactive table.\"\n",
              "              style=\"display:none;\">\n",
              "        \n",
              "  <svg xmlns=\"http://www.w3.org/2000/svg\" height=\"24px\"viewBox=\"0 0 24 24\"\n",
              "       width=\"24px\">\n",
              "    <path d=\"M0 0h24v24H0V0z\" fill=\"none\"/>\n",
              "    <path d=\"M18.56 5.44l.94 2.06.94-2.06 2.06-.94-2.06-.94-.94-2.06-.94 2.06-2.06.94zm-11 1L8.5 8.5l.94-2.06 2.06-.94-2.06-.94L8.5 2.5l-.94 2.06-2.06.94zm10 10l.94 2.06.94-2.06 2.06-.94-2.06-.94-.94-2.06-.94 2.06-2.06.94z\"/><path d=\"M17.41 7.96l-1.37-1.37c-.4-.4-.92-.59-1.43-.59-.52 0-1.04.2-1.43.59L10.3 9.45l-7.72 7.72c-.78.78-.78 2.05 0 2.83L4 21.41c.39.39.9.59 1.41.59.51 0 1.02-.2 1.41-.59l7.78-7.78 2.81-2.81c.8-.78.8-2.07 0-2.86zM5.41 20L4 18.59l7.72-7.72 1.47 1.35L5.41 20z\"/>\n",
              "  </svg>\n",
              "      </button>\n",
              "      \n",
              "  <style>\n",
              "    .colab-df-container {\n",
              "      display:flex;\n",
              "      flex-wrap:wrap;\n",
              "      gap: 12px;\n",
              "    }\n",
              "\n",
              "    .colab-df-convert {\n",
              "      background-color: #E8F0FE;\n",
              "      border: none;\n",
              "      border-radius: 50%;\n",
              "      cursor: pointer;\n",
              "      display: none;\n",
              "      fill: #1967D2;\n",
              "      height: 32px;\n",
              "      padding: 0 0 0 0;\n",
              "      width: 32px;\n",
              "    }\n",
              "\n",
              "    .colab-df-convert:hover {\n",
              "      background-color: #E2EBFA;\n",
              "      box-shadow: 0px 1px 2px rgba(60, 64, 67, 0.3), 0px 1px 3px 1px rgba(60, 64, 67, 0.15);\n",
              "      fill: #174EA6;\n",
              "    }\n",
              "\n",
              "    [theme=dark] .colab-df-convert {\n",
              "      background-color: #3B4455;\n",
              "      fill: #D2E3FC;\n",
              "    }\n",
              "\n",
              "    [theme=dark] .colab-df-convert:hover {\n",
              "      background-color: #434B5C;\n",
              "      box-shadow: 0px 1px 3px 1px rgba(0, 0, 0, 0.15);\n",
              "      filter: drop-shadow(0px 1px 2px rgba(0, 0, 0, 0.3));\n",
              "      fill: #FFFFFF;\n",
              "    }\n",
              "  </style>\n",
              "\n",
              "      <script>\n",
              "        const buttonEl =\n",
              "          document.querySelector('#df-bc26eaa0-e03f-43e0-a1f4-e7b326d828c7 button.colab-df-convert');\n",
              "        buttonEl.style.display =\n",
              "          google.colab.kernel.accessAllowed ? 'block' : 'none';\n",
              "\n",
              "        async function convertToInteractive(key) {\n",
              "          const element = document.querySelector('#df-bc26eaa0-e03f-43e0-a1f4-e7b326d828c7');\n",
              "          const dataTable =\n",
              "            await google.colab.kernel.invokeFunction('convertToInteractive',\n",
              "                                                     [key], {});\n",
              "          if (!dataTable) return;\n",
              "\n",
              "          const docLinkHtml = 'Like what you see? Visit the ' +\n",
              "            '<a target=\"_blank\" href=https://colab.research.google.com/notebooks/data_table.ipynb>data table notebook</a>'\n",
              "            + ' to learn more about interactive tables.';\n",
              "          element.innerHTML = '';\n",
              "          dataTable['output_type'] = 'display_data';\n",
              "          await google.colab.output.renderOutput(dataTable, element);\n",
              "          const docLink = document.createElement('div');\n",
              "          docLink.innerHTML = docLinkHtml;\n",
              "          element.appendChild(docLink);\n",
              "        }\n",
              "      </script>\n",
              "    </div>\n",
              "  </div>\n",
              "  "
            ]
          },
          "metadata": {},
          "execution_count": 22
        }
      ],
      "source": [
        "new_df.head()"
      ]
    },
    {
      "cell_type": "code",
      "execution_count": 23,
      "id": "84a4cc38",
      "metadata": {
        "colab": {
          "base_uri": "https://localhost:8080/",
          "height": 542
        },
        "id": "84a4cc38",
        "outputId": "1d2ba2a1-0949-42e8-c18a-085d66300100"
      },
      "outputs": [
        {
          "output_type": "display_data",
          "data": {
            "text/html": [
              "<html>\n",
              "<head><meta charset=\"utf-8\" /></head>\n",
              "<body>\n",
              "    <div>            <script src=\"https://cdnjs.cloudflare.com/ajax/libs/mathjax/2.7.5/MathJax.js?config=TeX-AMS-MML_SVG\"></script><script type=\"text/javascript\">if (window.MathJax) {MathJax.Hub.Config({SVG: {font: \"STIX-Web\"}});}</script>                <script type=\"text/javascript\">window.PlotlyConfig = {MathJaxConfig: 'local'};</script>\n",
              "        <script src=\"https://cdn.plot.ly/plotly-2.8.3.min.js\"></script>                <div id=\"8400d16d-b50e-4f82-8fb5-e2b4d842d558\" class=\"plotly-graph-div\" style=\"height:525px; width:100%;\"></div>            <script type=\"text/javascript\">                                    window.PLOTLYENV=window.PLOTLYENV || {};                                    if (document.getElementById(\"8400d16d-b50e-4f82-8fb5-e2b4d842d558\")) {                    Plotly.newPlot(                        \"8400d16d-b50e-4f82-8fb5-e2b4d842d558\",                        [{\"hovertemplate\":\"variable=y_real<br>index=%{x}<br>value=%{y}<extra></extra>\",\"legendgroup\":\"y_real\",\"line\":{\"color\":\"#636efa\",\"dash\":\"solid\"},\"marker\":{\"symbol\":\"circle\"},\"mode\":\"lines\",\"name\":\"y_real\",\"showlegend\":true,\"x\":[0,1,2,3,4,5,6,7,8,9,10,11,12,13,14,15,16,17,18,19,20,21,22,23,24,25,26,27,28,29,30,31,32,33,34,35,36,37,38,39,40,41,42,43,44,45,46,47,48,49,50,51,52,53,54,55,56,57,58,59,60,61,62,63,64,65,66,67,68,69,70,71,72,73,74,75,76,77,78,79,80,81,82,83,84,85,86,87,88,89,90,91,92,93,94,95,96,97,98,99,100,101,102,103,104,105,106,107,108,109,110,111,112,113,114,115,116,117,118,119,120,121,122,123,124,125,126,127,128,129,130,131,132,133,134,135,136,137,138,139,140,141,142,143,144,145,146,147,148,149,150,151,152,153,154,155,156,157,158,159,160,161,162,163,164,165,166,167,168,169,170,171,172,173,174,175,176,177,178,179,180,181,182,183,184,185,186,187,188,189,190,191,192,193,194,195,196,197,198,199,200,201,202,203,204,205,206,207,208,209,210,211,212,213,214,215,216,217,218,219,220,221,222,223,224,225,226,227,228,229,230,231,232,233,234,235,236,237,238,239,240,241,242,243,244,245,246,247,248,249,250,251,252,253,254,255,256,257,258,259,260,261,262,263,264,265,266,267,268,269,270,271,272,273,274,275,276,277,278,279,280,281,282,283,284,285,286,287,288,289,290,291,292,293,294,295,296,297,298,299,300,301,302,303,304,305,306,307,308,309,310,311,312,313,314,315,316,317,318,319,320,321,322,323,324,325,326,327,328,329,330,331,332,333,334,335,336,337,338,339,340,341,342,343,344,345,346,347,348,349,350,351,352,353,354,355,356,357,358,359,360,361,362,363,364,365,366,367,368,369,370,371,372,373,374,375,376,377,378,379,380,381,382,383,384,385,386,387,388,389,390,391,392,393,394,395,396,397,398,399,400,401,402,403,404,405,406,407,408,409,410,411,412,413,414,415,416,417,418,419,420,421,422,423,424,425,426,427,428,429,430,431,432,433,434,435,436,437,438,439,440,441,442,443,444,445,446,447,448,449,450,451,452,453,454,455,456,457,458,459,460,461,462,463,464,465,466,467,468,469,470,471,472,473,474,475,476,477,478,479,480,481,482,483,484,485,486,487,488,489,490,491,492,493,494,495,496,497,498,499,500,501,502,503,504,505,506,507,508,509,510,511,512,513,514,515,516,517,518,519,520,521,522,523,524,525,526,527,528,529,530,531,532,533,534,535,536,537,538,539,540,541,542,543,544,545,546,547,548,549,550,551,552,553,554,555,556,557,558,559,560,561,562,563,564,565,566,567,568,569,570,571,572,573,574,575,576,577,578,579,580,581,582,583,584,585,586,587,588,589,590,591,592,593,594,595,596,597,598,599,600,601,602,603,604,605,606,607,608,609,610,611,612,613,614,615,616,617,618,619,620,621,622,623,624,625,626,627,628,629,630,631,632,633,634,635,636,637,638,639,640,641,642,643,644,645,646,647,648,649,650,651,652,653,654,655,656,657,658,659,660,661,662,663,664,665,666,667,668,669,670,671,672,673,674,675,676,677,678,679,680,681,682,683,684,685,686,687,688,689,690,691,692,693,694,695,696,697,698,699,700,701,702,703,704,705,706,707,708,709,710,711,712,713,714,715,716,717,718,719,720,721,722,723,724,725,726,727,728,729,730,731,732,733,734,735,736,737,738,739,740,741,742,743,744,745,746,747,748,749,750,751,752,753,754,755,756,757,758,759,760,761,762,763,764,765,766,767,768,769,770,771,772,773,774,775,776,777,778,779,780,781,782,783,784,785,786,787,788,789,790,791,792,793,794,795,796,797,798,799,800,801,802,803,804,805,806,807,808,809,810,811,812,813,814,815,816,817,818,819,820,821,822,823,824,825,826,827,828,829,830,831,832,833,834,835,836,837,838,839,840,841,842,843,844,845,846,847,848,849],\"xaxis\":\"x\",\"y\":[55.99700164794922,56.070499420166016,55.32500076293945,51.9370002746582,52.7244987487793,52.231998443603516,52.38800048828125,53.41849899291992,54.13800048828125,54.051998138427734,53.95500183105469,54.550498962402344,54.314998626708984,54.69449996948242,55.262001037597656,55.22549819946289,55.65999984741211,56.26850128173828,55.834999084472656,54.37900161743164,54.01599884033203,53.83150100708008,54.13999938964844,55.0,55.630001068115234,56.14950180053711,56.63349914550781,55.839500427246094,56.214500427246094,57.045501708984375,57.20399856567383,57.266998291015625,57.5255012512207,57.67300033569336,57.33700180053711,57.36199951171875,56.57749938964844,56.96049880981445,57.40250015258789,56.98649978637695,56.797000885009766,62.26100158691406,62.09199905395508,61.400001525878906,60.90999984741211,60.5890007019043,59.816001892089844,57.73749923706055,58.55400085449219,58.795501708984375,60.30950164794922,59.44499969482422,58.724998474121094,59.83649826049805,58.212501525878906,58.465999603271484,58.96049880981445,60.02199935913086,59.17649841308594,59.57899856567383,59.57600021362305,57.67900085449219,58.558998107910156,58.54100036621094,58.6875,59.71200180053711,59.5265007019043,58.477500915527344,59.11349868774414,60.609500885009766,60.316001892089844,60.26350021362305,60.28499984741211,61.0,61.74850082397461,62.00149917602539,61.58150100708008,61.49399948120117,61.63249969482422,61.9375,61.492000579833984,61.734500885009766,60.916500091552734,62.297000885009766,62.114498138427734,61.29750061035156,61.05699920654297,60.29999923706055,58.895999908447266,59.471500396728516,60.54800033569336,60.412498474121094,59.506500244140625,60.119998931884766,60.4734992980957,60.785499572753906,60.88850021362305,62.11199951171875,62.150001525878906,62.63999938964844,62.22050094604492,62.2140007019043,62.060001373291016,62.881500244140625,62.955501556396484,63.21500015258789,64.4489974975586,63.03300094604492,63.03499984741211,62.939998626708984,63.61249923706055,64.48049926757812,64.5719985961914,64.55049896240234,65.34700012207031,65.44999694824219,64.91400146484375,64.8604965209961,64.80899810791016,65.4574966430664,66.677001953125,65.99199676513672,65.62950134277344,65.09300231933594,65.00700378417969,64.68350219726562,65.28199768066406,65.6500015258789,65.60649871826172,65.20449829101562,64.44300079345703,64.73699951171875,65.9469985961914,66.3479995727539,66.96949768066406,67.14949798583984,67.14450073242188,67.2125015258789,67.42449951171875,67.34349822998047,68.03500366210938,67.74449920654297,67.59549713134766,67.8219985961914,67.56099700927734,67.53150177001953,67.22149658203125,68.12349700927734,67.73200225830078,66.9854965209961,66.96949768066406,68.43399810791016,68.07599639892578,69.8905029296875,69.75550079345703,70.25199890136719,70.989501953125,71.447998046875,72.00150299072266,71.52950286865234,71.95999908447266,72.50800323486328,73.97599792480469,74.11250305175781,74.19349670410156,74.2344970703125,73.30850219726562,71.58650207519531,72.5250015258789,72.83499908447266,72.7125015258789,71.63899993896484,74.12999725341797,72.27050018310547,72.30249786376953,73.79850006103516,73.95549774169922,75.43299865722656,75.50299835205078,75.93150329589844,75.66950225830078,75.9365005493164,75.97200012207031,76.24349975585938,75.84950256347656,74.1729965209961,70.99299621582031,69.31600189208984,69.52349853515625,65.74749755859375,66.9625015258789,69.31600189208984,66.88600158691406,69.08000183105469,65.73799896240234,64.78700256347656,60.78950119018555,63.75849914550781,60.54499816894531,55.57749938964844,60.7135009765625,53.650001525878906,55.90299987792969,54.55950164794922,55.583499908447266,53.410499572753906,52.70650100708008,56.5004997253418,55.08100128173828,58.145999908447266,55.51300048828125,57.31549835205078,58.09749984741211,55.10499954223633,55.85150146484375,54.6349983215332,59.15950012207031,59.12799835205078,60.349998474121094,60.32849884033203,60.52050018310547,63.26150131225586,62.8650016784668,62.871498107910156,63.95000076293945,63.057498931884766,60.608001708984375,62.920501708984375,63.55849838256836,63.83000183105469,63.542999267578125,61.62950134277344,67.10900115966797,67.33499908447266,65.86599731445312,66.1449966430664,67.45099639892578,67.27149963378906,68.46399688720703,69.21700286865234,70.17949676513672,68.75900268554688,67.41649627685547,67.84300231933594,68.65299987792969,69.25900268554688,68.72000122070312,70.45800018310547,70.3375015258789,70.66200256347656,71.06849670410156,71.01399993896484,70.91200256347656,71.6760025024414,71.74349975585938,72.1155014038086,71.9625015258789,70.71499633789062,72.0009994506836,72.4020004272461,72.60399627685547,73.23500061035156,70.09500122070312,70.64600372314453,71.03700256347656,72.32350158691406,72.62699890136719,71.70600128173828,71.23200225830078,72.53299713134766,73.1989974975586,71.63500213623047,72.05500030517578,68.12699890136719,69.8584976196289,70.90249633789062,72.0999984741211,73.49649810791016,74.98249816894531,74.49600219726562,75.18000030517578,75.93299865722656,76.95050048828125,75.61150360107422,76.04299926757812,75.84400177001953,75.74600219726562,75.84249877929688,78.19200134277344,77.7959976196289,78.24250030517578,75.8375015258789,75.4104995727539,76.47149658203125,75.18250274658203,76.17549896240234,76.91850280761719,74.39749908447266,74.13800048828125,73.66500091552734,73.95449829101562,75.24749755859375,74.91850280761719,74.84100341796875,74.0270004272461,75.36199951171875,75.8324966430664,75.23149871826172,75.81199645996094,77.78900146484375,77.23049926757812,78.8125,78.77850341796875,79.25749969482422,80.2925033569336,82.20649719238281,81.4260025024414,81.97149658203125,81.47650146484375,82.75399780273438,85.86949920654297,81.47550201416016,79.06050109863281,76.18000030517578,77.36150360107422,76.30249786376953,75.78800201416016,75.44149780273438,76.75599670410156,75.60449981689453,74.35199737548828,72.55449676513672,71.50700378417969,72.99099731445312,70.46949768066406,71.14299774169922,71.9530029296875,72.93299865722656,73.3010025024414,73.27999877929688,74.3949966430664,72.77999877929688,74.1415023803711,72.5510025024414,72.95700073242188,74.17150115966797,75.52249908447266,78.22949981689453,78.35350036621094,78.1719970703125,77.77349853515625,78.38500213623047,76.49749755859375,77.55400085449219,79.29949951171875,80.33300018310547,81.64900207519531,79.2145004272461,79.94400024414062,75.54000091552734,77.84400177001953,80.80549621582031,81.21600341796875,82.28299713134766,87.2925033569336,88.125,87.98650360107422,88.07099914550781,86.88600158691406,87.36150360107422,87.14099884033203,88.61299896240234,88.70149993896484,88.08300018310547,87.03199768066406,87.92849731445312,86.81900024414062,86.37799835205078,88.19499969482422,88.20649719238281,89.35099792480469,87.72000122070312,89.76799774169922,91.24849700927734,91.09200286865234,91.18800354003906,90.85150146484375,90.56649780273438,88.89299774169922,88.38249969482422,88.73999786376953,87.61299896240234,88.05400085449219,87.8594970703125,87.02549743652344,86.31099700927734,86.72799682617188,86.01100158691406,86.4114990234375,86.70800018310547,88.697998046875,87.88800048828125,86.8125,87.63200378417969,86.30650329589844,87.00250244140625,86.14399719238281,88.71700286865234,89.8915023803711,87.81449890136719,86.87149810791016,87.36250305175781,86.5459976196289,86.38099670410156,89.22350311279297,94.00350189208984,94.2074966430664,94.62799835205078,94.71399688720703,95.39749908447266,90.9469985961914,92.66000366210938,91.36799621582031,94.65350341796875,95.95600128173828,102.94400024414062,102.68150329589844,104.44149780273438,104.22599792480469,103.76950073242188,104.3239974975586,104.4375,104.75150299072266,105.53500366210938,105.93099975585938,105.29049682617188,104.44049835205078,102.71299743652344,103.00599670410156,104.19049835205078,100.79750061035156,101.09549713134766,103.48300170898438,103.2239990234375,100.57050323486328,101.69650268554688,104.85350036621094,100.375,102.01799774169922,101.80950164794922,105.0270004272461,102.5,102.72200012207031,104.19450378417969,104.11100006103516,101.06700134277344,101.3479995727539,101.53450012207031,102.06649780273438,101.62650299072266,101.62300109863281,101.23650360107422,102.28949737548828,102.32350158691406,103.1259994506836,106.48899841308594,110.947998046875,110.46299743652344,111.95149993896484,112.52149963378906,113.53350067138672,112.23100280761719,112.72149658203125,112.09549713134766,114.26249694824219,114.13749694824219,114.48799896240234,113.95050048828125,113.9175033569336,112.6259994506836,114.99649810791016,115.49649810791016,114.54900360107422,117.9520034790039,119.63800048828125,117.67500305175781,117.15399932861328,115.34149932861328,115.7385025024414,116.86750030517578,117.59649658203125,114.5875015258789,113.50299835205078,110.01249694824219,111.4520034790039,113.91899871826172,114.44599914550781,113.12349700927734,113.57499694824219,115.34750366210938,114.70649719238281,118.052001953125,118.14350128173828,119.0155029296875,118.13400268554688,117.84249877929688,119.05899810791016,118.52950286865234,117.37899780273438,119.67849731445312,120.11499786376953,119.9219970703125,120.39700317382812,121.75650024414062,121.51000213623047,122.44550323486328,121.41950225830078,120.77249908447266,121.74349975585938,120.11100006103516,121.8125,122.33049774169922,122.12699890136719,122.5,122.50849914550781,122.53600311279297,122.27249908447266,122.0895004272461,122.44450378417969,125.25749969482422,126.19000244140625,126.4739990234375,125.04399871826172,125.51850128173828,126.97550201416016,127.34149932861328,128.23699951171875,127.00499725341797,126.97000122070312,124.5780029296875,126.20950317382812,127.54900360107422,128.42149353027344,133.01499938964844,134.03500366210938,131.89999389648438,136.093994140625,135.77749633789062,134.72650146484375,134.85450744628906,135.6300048828125,135.12550354003906,136.25149536132812,135.73849487304688,136.91299438476562,136.8070068359375,136.2790069580078,137.19400024414062,137.7274932861328,138.3094940185547,136.6614990234375,135.44900512695312,135.67999267578125,137.42950439453125,140.04150390625,141.26150512695312,142.07899475097656,141.4405059814453,144.00399780273438,144.5904998779297,144.69749450683594,145.2154998779297,143.28700256347656,143.739501953125,144.28050231933594,143.6909942626953,143.54100036621094,140.87600708007812,142.33250427246094,142.54449462890625,144.42950439453125,143.61000061035156,140.8000030517578,138.71949768066406,139.0330047607422,140.2834930419922,141.21600341796875,142.21499633789062,141.07200622558594,135.8300018310547,134.35350036621094,133.67599487304688,136.54299926757812,133.6595001220703,136.0229949951172,137.56500244140625,139.22500610351562,139.78550720214844,138.91400146484375,136.44900512695312,137.58200073242188,141.1510009765625,141.3679962158203,142.7779998779297,143.23699951171875,141.7689971923828,141.88600158691406,137.56649780273438,137.44700622558594,139.30850219726562,146.21749877929688,145.8489990234375,148.04600524902344,143.4969940185547,145.4324951171875,146.59800720214844,148.2675018310547,148.8520050048828,149.031005859375,148.9185028076172,145.89349365234375,145.76649475097656,148.67799377441406,148.45199584960938,147.87600708007812,148.0469970703125,149.8385009765625,148.92649841308594,146.302001953125,145.78199768066406,146.1199951171875,142.18299865722656,145.53050231933594,141.8975067138672,141.05149841308594,142.96600341796875,142.00149536132812,143.15499877929688,147.26950073242188,148.18649291992188,147.6385040283203,148.00149536132812,145.82650756835938,143.90699768066406,146.4409942626953,144.44500732421875,141.72500610351562,141.60699462890625,143.47250366210938,146.4149932861328,146.91650390625,147.906494140625,146.68699645996094,146.65499877929688,146.20050048828125,144.8520050048828,144.9915008544922,144.39950561523438,137.77499389648438,137.74749755859375,137.01699829101562,138.66949462890625,139.73599243164062,141.4304962158203,138.58700561523438,139.48049926757812,135.9980010986328,135.1165008544922,133.3074951171875,130.35150146484375,130.8040008544922,126.93499755859375,129.23300170898438,129.0050048828125,133.3509979248047,135.30349731445312,137.6439971923828,148.0,143.08999633789062,143.29299926757812,139.2010040283203,139.3990020751953,141.5919952392578,138.6199951171875,134.28250122070312,135.5260009765625,136.60850524902344,137.73800659179688,132.53900146484375,130.4029998779297,129.81350708007812,127.58799743652344,132.6909942626953,134.45950317382812,135.0570068359375,134.06149291992188,134.57150268554688,133.89950561523438,131.906494140625,126.37850189208984,127.10449981689453,133.4199981689453,132.42950439453125,129.87049865722656,125.95099639892578,129.197998046875,133.28050231933594,133.83900451660156,136.12550354003906,136.10150146484375,139.8679962158203,138.27549743652344,141.57200622558594,141.67300415039062,141.45550537109375,142.5054931640625,141.93850708007812,139.0675048828125,140.15049743652344,142.97149658203125,140.59100341796875,136.54800415039062,135.8885040283203,133.28750610351562,128.82350158691406,127.7145004272461,129.8939971923828,126.7300033569336,127.67649841308594,130.00900268554688,128.0399932861328,124.81449890136719,119.635498046875,123.0739974975586,118.6500015258789,114.29450225830078,118.52249908447266,114.1094970703125,116.58300018310547,117.33399963378906,122.26100158691406,116.50550079345703,115.74649810791016,112.51100158691406,114.3949966430664,113.60250091552734,112.84400177001953,116.05049896240234,114.44499969482422,116.4729995727539,111.89949798583984,110.38400268554688,108.90799713134766,111.48799896240234,105.97000122070312,105.80500030517578,107.7925033569336,112.31649780273438,113.76200103759766,113.89199829101562,117.62249755859375,114.54100036621094,116.82050323486328,117.14949798583984,117.19400024414062,114.83550262451172,111.1614990234375,106.39250183105469,106.71549987792969,109.7645034790039,106.03350067138672,107.14350128173828,111.54399871826172,111.48750305175781,112.24199676513672,117.9749984741211,115.83350372314453,112.00749969482422,111.70149993896484,108.96299743652344,108.73750305175781,113.26300048828125,114.5719985961914,118.78299713134766,119.35350036621094,115.67649841308594,114.02050018310547,111.35350036621094,110.36750030517578,111.77749633789062,109.02999877929688,113.80999755859375,113.9000015258789,114.33999633789062,107.9000015258789,107.51000213623047,105.0199966430664,113.05999755859375,114.22000122070312,116.31999969482422,114.86000061035156,115.12999725341797,118.08000183105469,118.19000244140625,117.47000122070312,117.30000305175781,116.62999725341797,119.69999694824219,118.83999633789062,121.68000030517578,122.08000183105469,121.69999694824219,119.55000305175781,120.16999816894531,117.20999908447266,114.23999786376953,113.86000061035156,113.69000244140625,116.6500015258789,110.33999633789062,109.41999816894531,108.94000244140625,108.22000122070312,109.73999786376953,107.8499984741211,106.80999755859375,109.44999694824219,108.37999725341797,110.6500015258789,110.86000061035156,104.31999969482422,105.0,102.91000366210938,102.80000305175781,103.06999969482422,101.13999938964844,99.27999877929688,100.13999938964844,98.73999786376953,98.16999816894531,97.5,100.05000305175781,97.41999816894531,95.6500015258789,98.63999938964844,101.63999938964844,101.43000030517578,101.41999816894531,98.68000030517578,97.86000061035156],\"yaxis\":\"y\",\"type\":\"scattergl\"},{\"hovertemplate\":\"variable=predicted_price<br>index=%{x}<br>value=%{y}<extra></extra>\",\"legendgroup\":\"predicted_price\",\"line\":{\"color\":\"#EF553B\",\"dash\":\"solid\"},\"marker\":{\"symbol\":\"circle\"},\"mode\":\"lines\",\"name\":\"predicted_price\",\"showlegend\":true,\"x\":[0,1,2,3,4,5,6,7,8,9,10,11,12,13,14,15,16,17,18,19,20,21,22,23,24,25,26,27,28,29,30,31,32,33,34,35,36,37,38,39,40,41,42,43,44,45,46,47,48,49,50,51,52,53,54,55,56,57,58,59,60,61,62,63,64,65,66,67,68,69,70,71,72,73,74,75,76,77,78,79,80,81,82,83,84,85,86,87,88,89,90,91,92,93,94,95,96,97,98,99,100,101,102,103,104,105,106,107,108,109,110,111,112,113,114,115,116,117,118,119,120,121,122,123,124,125,126,127,128,129,130,131,132,133,134,135,136,137,138,139,140,141,142,143,144,145,146,147,148,149,150,151,152,153,154,155,156,157,158,159,160,161,162,163,164,165,166,167,168,169,170,171,172,173,174,175,176,177,178,179,180,181,182,183,184,185,186,187,188,189,190,191,192,193,194,195,196,197,198,199,200,201,202,203,204,205,206,207,208,209,210,211,212,213,214,215,216,217,218,219,220,221,222,223,224,225,226,227,228,229,230,231,232,233,234,235,236,237,238,239,240,241,242,243,244,245,246,247,248,249,250,251,252,253,254,255,256,257,258,259,260,261,262,263,264,265,266,267,268,269,270,271,272,273,274,275,276,277,278,279,280,281,282,283,284,285,286,287,288,289,290,291,292,293,294,295,296,297,298,299,300,301,302,303,304,305,306,307,308,309,310,311,312,313,314,315,316,317,318,319,320,321,322,323,324,325,326,327,328,329,330,331,332,333,334,335,336,337,338,339,340,341,342,343,344,345,346,347,348,349,350,351,352,353,354,355,356,357,358,359,360,361,362,363,364,365,366,367,368,369,370,371,372,373,374,375,376,377,378,379,380,381,382,383,384,385,386,387,388,389,390,391,392,393,394,395,396,397,398,399,400,401,402,403,404,405,406,407,408,409,410,411,412,413,414,415,416,417,418,419,420,421,422,423,424,425,426,427,428,429,430,431,432,433,434,435,436,437,438,439,440,441,442,443,444,445,446,447,448,449,450,451,452,453,454,455,456,457,458,459,460,461,462,463,464,465,466,467,468,469,470,471,472,473,474,475,476,477,478,479,480,481,482,483,484,485,486,487,488,489,490,491,492,493,494,495,496,497,498,499,500,501,502,503,504,505,506,507,508,509,510,511,512,513,514,515,516,517,518,519,520,521,522,523,524,525,526,527,528,529,530,531,532,533,534,535,536,537,538,539,540,541,542,543,544,545,546,547,548,549,550,551,552,553,554,555,556,557,558,559,560,561,562,563,564,565,566,567,568,569,570,571,572,573,574,575,576,577,578,579,580,581,582,583,584,585,586,587,588,589,590,591,592,593,594,595,596,597,598,599,600,601,602,603,604,605,606,607,608,609,610,611,612,613,614,615,616,617,618,619,620,621,622,623,624,625,626,627,628,629,630,631,632,633,634,635,636,637,638,639,640,641,642,643,644,645,646,647,648,649,650,651,652,653,654,655,656,657,658,659,660,661,662,663,664,665,666,667,668,669,670,671,672,673,674,675,676,677,678,679,680,681,682,683,684,685,686,687,688,689,690,691,692,693,694,695,696,697,698,699,700,701,702,703,704,705,706,707,708,709,710,711,712,713,714,715,716,717,718,719,720,721,722,723,724,725,726,727,728,729,730,731,732,733,734,735,736,737,738,739,740,741,742,743,744,745,746,747,748,749,750,751,752,753,754,755,756,757,758,759,760,761,762,763,764,765,766,767,768,769,770,771,772,773,774,775,776,777,778,779,780,781,782,783,784,785,786,787,788,789,790,791,792,793,794,795,796,797,798,799,800,801,802,803,804,805,806,807,808,809,810,811,812,813,814,815,816,817,818,819,820,821,822,823,824,825,826,827,828,829,830,831,832,833,834,835,836,837,838,839,840,841,842,843,844,845,846,847,848,849],\"xaxis\":\"x\",\"y\":[57.47876739501953,57.24166488647461,56.81902313232422,56.438167572021484,55.972408294677734,54.68369674682617,53.555904388427734,52.652122497558594,52.11033630371094,52.143611907958984,52.630828857421875,53.19175720214844,53.63571548461914,54.09254837036133,54.39206314086914,54.654319763183594,54.99021530151367,55.264862060546875,55.55634689331055,55.94217300415039,56.15233612060547,55.83684158325195,55.2648811340332,54.666236877441406,54.27702331542969,54.29936981201172,54.664527893066406,55.23030471801758,55.87751770019531,56.19141387939453,56.38384246826172,56.701053619384766,57.034969329833984,57.30472183227539,57.54396438598633,57.74519348144531,57.783756256103516,57.74225616455078,57.46047592163086,57.23970413208008,57.214603424072266,57.16494369506836,57.06239318847656,58.435062408447266,60.0695686340332,61.20765686035156,61.71578598022461,61.74163818359375,61.34031677246094,60.28616714477539,59.41777038574219,58.89679718017578,59.05057907104492,59.22056579589844,59.15947723388672,59.318878173828125,59.103355407714844,58.849517822265625,58.780399322509766,59.09648132324219,59.27436065673828,59.45756149291992,59.601097106933594,59.18288803100586,58.86222839355469,58.66025161743164,58.59589385986328,58.882076263427734,59.20014572143555,59.170623779296875,59.17203140258789,59.593299865722656,60.011356353759766,60.30645751953125,60.480934143066406,60.75208282470703,61.19670867919922,61.66805648803711,61.913639068603516,61.97330093383789,61.9718132019043,62.021080017089844,61.95238494873047,61.91006088256836,61.664161682128906,61.76203155517578,61.93080139160156,61.86296844482422,61.64634323120117,61.217079162597656,60.42577362060547,59.829959869384766,59.7568359375,59.89140701293945,59.83978271484375,59.8928108215332,60.08148956298828,60.370723724365234,60.662925720214844,61.21788787841797,61.75909423828125,62.29069519042969,62.57005310058594,62.66732406616211,62.61698532104492,62.7326774597168,62.902748107910156,63.116092681884766,63.624290466308594,63.73923873901367,63.655757904052734,63.48154830932617,63.490447998046875,63.805538177490234,64.19099426269531,64.50016021728516,64.91534423828125,65.29659271240234,65.41807556152344,65.38301849365234,65.2737045288086,65.33238220214844,65.7740707397461,66.07173156738281,66.13220977783203,65.93167877197266,65.64765167236328,65.30903625488281,65.19214630126953,65.295166015625,65.45098114013672,65.48078918457031,65.24549102783203,65.04100036621094,65.2313461303711,65.64801025390625,66.22367858886719,66.77011108398438,67.16520690917969,67.41577911376953,67.5987319946289,67.6806640625,67.88397216796875,67.99987030029297,68.00411987304688,68.01885986328125,67.95811462402344,67.86974334716797,67.70447540283203,67.7938461303711,67.8559341430664,67.6860122680664,67.46027374267578,67.6695556640625,67.90594482421875,68.59201049804688,69.25102233886719,69.86760711669922,70.51210021972656,71.1259765625,71.717529296875,72.01067352294922,72.2204818725586,72.48500061035156,73.09967803955078,73.72321319580078,74.2039794921875,74.50833129882812,74.40029907226562,73.67564392089844,73.1448745727539,72.90206909179688,72.7966079711914,72.47549438476562,72.84095764160156,72.8713607788086,72.77519226074219,73.06986999511719,73.48814392089844,74.25971984863281,74.9908447265625,75.63610076904297,76.00499725341797,76.24069213867188,76.36614990234375,76.48401641845703,76.45088958740234,75.89662170410156,74.40258026123047,72.4609146118164,70.88270568847656,68.81501770019531,67.4018783569336,67.25991821289062,67.02536010742188,67.43250274658203,67.10751342773438,66.32646942138672,64.49092864990234,63.4862174987793,62.22162628173828,59.83731460571289,58.943275451660156,57.0428581237793,55.77312088012695,54.7597541809082,54.39527130126953,53.853797912597656,53.20042419433594,53.69723129272461,54.23612594604492,55.495235443115234,56.07817077636719,56.71135330200195,57.437007904052734,57.22037887573242,56.84049987792969,56.15719223022461,56.7073860168457,57.65275955200195,58.84966278076172,59.847572326660156,60.55771255493164,61.70570373535156,62.636409759521484,63.226158142089844,63.803524017333984,63.97224044799805,63.24653244018555,62.934967041015625,63.03514862060547,63.34193420410156,63.57102966308594,63.18617248535156,64.12643432617188,65.45146179199219,66.18934631347656,66.57223510742188,67.0669937133789,67.42566680908203,67.95407104492188,68.61465454101562,69.4151840209961,69.6669921875,69.25597381591797,68.78838348388672,68.62620544433594,68.78549194335938,68.88060760498047,69.4001693725586,69.92496490478516,70.40608215332031,70.85774993896484,71.16448211669922,71.30281829833984,71.54410552978516,71.77732849121094,72.0445785522461,72.209228515625,71.94219970703125,71.92169189453125,72.10956573486328,72.38417053222656,72.79515075683594,72.2863998413086,71.69575500488281,71.32592010498047,71.4896469116211,71.90818786621094,72.06865692138672,71.95834350585938,72.12934112548828,72.55224609375,72.53409576416016,72.46286010742188,71.30831146240234,70.49010467529297,70.29566192626953,70.7310791015625,71.69865417480469,73.04898834228516,74.07111358642578,74.89226531982422,75.62857055664062,76.41666412353516,76.63619995117188,76.6894302368164,76.5953140258789,76.42903900146484,76.29379272460938,76.85102844238281,77.41342163085938,77.9544448852539,77.67237854003906,77.02935028076172,76.7003173828125,76.21263885498047,76.06450653076172,76.29158782958984,75.90696716308594,75.31971740722656,74.67483520507812,74.25450134277344,74.39083862304688,74.62384796142578,74.8205795288086,74.7330322265625,74.93221282958984,75.32413482666016,75.52473449707031,75.7623062133789,76.50249481201172,77.08641815185547,77.89955139160156,78.5735092163086,79.14740753173828,79.81523895263672,80.871826171875,81.56575775146484,82.08719635009766,82.25458526611328,82.59387969970703,83.77330780029297,83.69625854492188,82.50658416748047,80.40521240234375,78.81922149658203,77.52885437011719,76.5439682006836,75.8414077758789,75.8054428100586,75.73102569580078,75.33102416992188,74.42581939697266,73.27881622314453,72.74517822265625,71.90325927734375,71.35041046142578,71.28665161132812,71.71685028076172,72.34814453125,72.9028091430664,73.60269165039062,73.73612213134766,73.99207305908203,73.78675079345703,73.5622787475586,73.71784210205078,74.35293579101562,75.76471710205078,77.14378356933594,78.09595489501953,78.51815795898438,78.78838348388672,78.38953399658203,78.12217712402344,78.44579315185547,79.19053649902344,80.2656478881836,80.49427795410156,80.5487289428711,79.2854232788086,78.48970031738281,78.88826751708984,79.75154876708984,80.87041473388672,83.21346282958984,85.62049865722656,87.36035919189453,88.40340423583984,88.55891418457031,88.47026824951172,88.22868347167969,88.39640045166016,88.67378234863281,88.73377227783203,88.39714813232422,88.2578125,87.9022216796875,87.44087982177734,87.5771255493164,87.89176940917969,88.51890563964844,88.6263656616211,89.10961151123047,90.01103210449219,90.77143859863281,91.3052749633789,91.513427734375,91.46348571777344,90.85225677490234,90.05992126464844,89.50798034667969,88.8641357421875,88.48910522460938,88.25506591796875,87.90379333496094,87.40919494628906,87.11732482910156,86.77561950683594,86.62776184082031,86.67691040039062,87.35515594482422,87.85089874267578,87.85252380371094,87.91126251220703,87.5927734375,87.42274475097656,87.10236358642578,87.5446548461914,88.47286224365234,88.73780059814453,88.43609619140625,88.14667510986328,87.69869232177734,87.26594543457031,87.75777435302734,89.81649780273438,91.93571472167969,93.62627410888672,94.7218246459961,95.4948501586914,94.6487045288086,93.96769714355469,93.12298583984375,93.38565063476562,94.32222747802734,97.27418518066406,100.00108337402344,102.41435241699219,103.9559326171875,104.6273193359375,104.96672821044922,105.10771179199219,105.21964263916016,105.5058822631836,105.87194061279297,105.96807098388672,105.7032241821289,104.89197540283203,104.21903991699219,104.11261749267578,103.23075866699219,102.4566879272461,102.61478424072266,102.9534912109375,102.50281524658203,102.26502227783203,103.06822967529297,102.67298889160156,102.51243591308594,102.38812255859375,103.25308990478516,103.44760131835938,103.46046447753906,103.82843780517578,104.17340850830078,103.53206634521484,102.84578704833984,102.3718490600586,102.25166320800781,102.15480041503906,102.10017395019531,101.96429443359375,102.14934539794922,102.3935546875,102.82817077636719,104.18537139892578,106.76409149169922,108.84040069580078,110.61337280273438,111.92261505126953,112.99166107177734,113.26663208007812,113.36192321777344,113.16590118408203,113.57530975341797,113.99160766601562,114.40322875976562,114.53075408935547,114.52825927734375,114.09931182861328,114.37354278564453,114.906982421875,115.09207916259766,116.14356231689453,117.62274932861328,118.20686340332031,118.22052764892578,117.50843811035156,116.9091567993164,116.83522033691406,117.15164184570312,116.6028060913086,115.66695404052734,113.85009765625,112.727783203125,112.8404769897461,113.45761108398438,113.67948913574219,113.8698501586914,114.51165008544922,114.90027618408203,116.10814666748047,117.20673370361328,118.22209167480469,118.63758850097656,118.66950988769531,118.93079376220703,119.00584411621094,118.66902160644531,119.0012435913086,119.53765106201172,119.92786407470703,120.30792236328125,120.9735107421875,121.43876647949219,121.99630737304688,122.0937271118164,121.84654998779297,121.86050415039062,121.441650390625,121.55154418945312,121.9150161743164,122.18994903564453,122.47712707519531,122.67985534667969,122.8064193725586,122.79232788085938,122.68807220458984,122.69442749023438,123.57303619384766,124.69898223876953,125.65108489990234,125.83523559570312,125.90115356445312,126.33282470703125,126.83175659179688,127.47528076171875,127.5838623046875,127.51696014404297,126.68968963623047,126.41195678710938,126.74462890625,127.41365814208984,129.3799591064453,131.3766632080078,132.12339782714844,133.61097717285156,134.66168212890625,134.9683074951172,135.0276336669922,135.2249755859375,135.23231506347656,135.5461883544922,135.6722412109375,136.0872039794922,136.4007110595703,136.43902587890625,136.68060302734375,137.04811096191406,137.51315307617188,137.34947204589844,136.72792053222656,136.2522430419922,136.48526000976562,137.61978149414062,138.9971923828125,140.26060485839844,140.8900604248047,141.95945739746094,142.93267822265625,143.60986328125,144.15774536132812,143.89024353027344,143.67718505859375,143.69097900390625,143.57400512695312,143.43475341796875,142.51438903808594,142.1788330078125,142.12249755859375,142.75120544433594,143.07911682128906,142.38729858398438,141.05227661132812,140.07119750976562,139.84860229492188,140.1695098876953,140.84234619140625,141.0357208251953,139.45799255371094,137.53173828125,135.87376403808594,135.66500854492188,134.99391174316406,135.19671630859375,135.9971923828125,137.21470642089844,138.32058715820312,138.77769470214844,138.172119140625,137.84466552734375,138.7482147216797,139.71762084960938,140.86227416992188,141.8133544921875,141.9568328857422,141.9060516357422,140.47555541992188,139.1685333251953,138.8383026123047,140.9829864501953,142.9062957763672,144.904296875,144.81642150878906,144.91650390625,145.31280517578125,146.1684112548828,147.0320281982422,147.6820831298828,148.0369873046875,147.26625061035156,146.47869873046875,146.81980895996094,147.21778869628906,147.3588104248047,147.45745849609375,148.06446838378906,148.28573608398438,147.55531311035156,146.70236206054688,146.1806640625,144.68341064453125,144.52297973632812,143.54611206054688,142.50222778320312,142.34608459472656,142.13230895996094,142.35960388183594,143.880615234375,145.47348022460938,146.41110229492188,147.00436401367188,146.62176513671875,145.55816650390625,145.45823669433594,144.95680236816406,143.7361297607422,142.7187042236328,142.63011169433594,143.69473266601562,144.84588623046875,145.97509765625,146.33741760253906,146.40200805664062,146.21273803710938,145.6054229736328,145.14956665039062,144.6824493408203,142.33912658691406,140.35496520996094,138.8015899658203,138.36204528808594,138.6621856689453,139.5915985107422,139.5016326904297,139.4998016357422,138.40896606445312,137.15353393554688,135.672607421875,133.70716857910156,132.3748321533203,130.4280242919922,129.6477813720703,129.30970764160156,130.54217529296875,132.38743591308594,134.55409240722656,139.3337860107422,141.5946807861328,142.66812133789062,141.772216796875,140.76390075683594,140.6712646484375,139.903076171875,137.95068359375,136.7229461669922,136.34921264648438,136.6693115234375,135.489990234375,133.71543884277344,132.13107299804688,130.39492797851562,130.71051025390625,131.9731903076172,133.3114471435547,133.9572296142578,134.38133239746094,134.3827667236328,133.66452026367188,131.31761169433594,129.50894165039062,130.25181579589844,131.1205596923828,131.0448760986328,129.5804443359375,129.1788787841797,130.364013671875,131.7763214111328,133.54324340820312,134.8236541748047,136.74195861816406,137.673583984375,139.1093292236328,140.18821716308594,140.78057861328125,141.3857879638672,141.60646057128906,140.79067993164062,140.34017944335938,140.95909118652344,140.89730834960938,139.50538635253906,138.050048828125,136.2129669189453,133.5238037109375,131.13433837890625,130.18658447265625,128.94520568847656,128.34507751464844,128.7860107421875,128.768798828125,127.6937484741211,125.11878204345703,123.93140411376953,122.0976791381836,119.39688873291016,118.49395751953125,117.02193450927734,116.60891723632812,116.82477569580078,118.65584564208984,118.67237091064453,117.99942016601562,116.32981872558594,115.40977478027344,114.71028137207031,114.0752944946289,114.6029052734375,114.83414459228516,115.54440307617188,114.81416320800781,113.45838928222656,111.85054779052734,111.37646484375,109.75067138671875,108.2372817993164,107.74588775634766,109.04393005371094,110.96464538574219,112.5832748413086,114.75932312011719,115.5102767944336,116.31878662109375,116.95795440673828,117.36597442626953,116.87643432617188,115.18941497802734,112.2450180053711,109.85317993164062,109.16556549072266,108.11319732666016,107.6241455078125,108.73847198486328,110.01683044433594,111.23049926757812,113.78124237060547,115.3137435913086,114.98234558105469,114.10440826416016,112.47193145751953,111.01404571533203,111.33987426757812,112.49421691894531,114.85393524169922,117.0461196899414,117.44911193847656,116.73521423339844,115.08690643310547,113.33905792236328,112.46054077148438,111.28223419189453,111.79147338867188,112.67381286621094,113.57768249511719,112.3274917602539,110.7130126953125,108.67912292480469,109.44789123535156,111.1823501586914,113.38563537597656,114.65337371826172,115.36167907714844,116.55229187011719,117.53522491455078,117.95523834228516,118.03250885009766,117.77385711669922,118.40396881103516,118.82405853271484,119.93350219726562,121.00967407226562,121.65005493164062,121.33055114746094,121.02363586425781,119.9031982421875,118.0217056274414,116.35797119140625,115.17594146728516,115.36387634277344,114.03678894042969,112.43933868408203,111.05145263671875,109.91009521484375,109.62491607666016,109.13253784179688,108.43948364257812,108.6583251953125,108.77178955078125,109.51129150390625,110.2838363647461,108.93275451660156,107.54367065429688,105.88186645507812,104.57460021972656,103.82049560546875,102.90351104736328,101.67256927490234,100.93726348876953,100.1602554321289,99.43754577636719,98.74568939208984,98.9992904663086,98.73584747314453,97.89046478271484,97.94593048095703,99.14586639404297,100.34049987792969,101.212890625],\"yaxis\":\"y\",\"type\":\"scattergl\"}],                        {\"template\":{\"data\":{\"bar\":[{\"error_x\":{\"color\":\"#2a3f5f\"},\"error_y\":{\"color\":\"#2a3f5f\"},\"marker\":{\"line\":{\"color\":\"#E5ECF6\",\"width\":0.5},\"pattern\":{\"fillmode\":\"overlay\",\"size\":10,\"solidity\":0.2}},\"type\":\"bar\"}],\"barpolar\":[{\"marker\":{\"line\":{\"color\":\"#E5ECF6\",\"width\":0.5},\"pattern\":{\"fillmode\":\"overlay\",\"size\":10,\"solidity\":0.2}},\"type\":\"barpolar\"}],\"carpet\":[{\"aaxis\":{\"endlinecolor\":\"#2a3f5f\",\"gridcolor\":\"white\",\"linecolor\":\"white\",\"minorgridcolor\":\"white\",\"startlinecolor\":\"#2a3f5f\"},\"baxis\":{\"endlinecolor\":\"#2a3f5f\",\"gridcolor\":\"white\",\"linecolor\":\"white\",\"minorgridcolor\":\"white\",\"startlinecolor\":\"#2a3f5f\"},\"type\":\"carpet\"}],\"choropleth\":[{\"colorbar\":{\"outlinewidth\":0,\"ticks\":\"\"},\"type\":\"choropleth\"}],\"contour\":[{\"colorbar\":{\"outlinewidth\":0,\"ticks\":\"\"},\"colorscale\":[[0.0,\"#0d0887\"],[0.1111111111111111,\"#46039f\"],[0.2222222222222222,\"#7201a8\"],[0.3333333333333333,\"#9c179e\"],[0.4444444444444444,\"#bd3786\"],[0.5555555555555556,\"#d8576b\"],[0.6666666666666666,\"#ed7953\"],[0.7777777777777778,\"#fb9f3a\"],[0.8888888888888888,\"#fdca26\"],[1.0,\"#f0f921\"]],\"type\":\"contour\"}],\"contourcarpet\":[{\"colorbar\":{\"outlinewidth\":0,\"ticks\":\"\"},\"type\":\"contourcarpet\"}],\"heatmap\":[{\"colorbar\":{\"outlinewidth\":0,\"ticks\":\"\"},\"colorscale\":[[0.0,\"#0d0887\"],[0.1111111111111111,\"#46039f\"],[0.2222222222222222,\"#7201a8\"],[0.3333333333333333,\"#9c179e\"],[0.4444444444444444,\"#bd3786\"],[0.5555555555555556,\"#d8576b\"],[0.6666666666666666,\"#ed7953\"],[0.7777777777777778,\"#fb9f3a\"],[0.8888888888888888,\"#fdca26\"],[1.0,\"#f0f921\"]],\"type\":\"heatmap\"}],\"heatmapgl\":[{\"colorbar\":{\"outlinewidth\":0,\"ticks\":\"\"},\"colorscale\":[[0.0,\"#0d0887\"],[0.1111111111111111,\"#46039f\"],[0.2222222222222222,\"#7201a8\"],[0.3333333333333333,\"#9c179e\"],[0.4444444444444444,\"#bd3786\"],[0.5555555555555556,\"#d8576b\"],[0.6666666666666666,\"#ed7953\"],[0.7777777777777778,\"#fb9f3a\"],[0.8888888888888888,\"#fdca26\"],[1.0,\"#f0f921\"]],\"type\":\"heatmapgl\"}],\"histogram\":[{\"marker\":{\"pattern\":{\"fillmode\":\"overlay\",\"size\":10,\"solidity\":0.2}},\"type\":\"histogram\"}],\"histogram2d\":[{\"colorbar\":{\"outlinewidth\":0,\"ticks\":\"\"},\"colorscale\":[[0.0,\"#0d0887\"],[0.1111111111111111,\"#46039f\"],[0.2222222222222222,\"#7201a8\"],[0.3333333333333333,\"#9c179e\"],[0.4444444444444444,\"#bd3786\"],[0.5555555555555556,\"#d8576b\"],[0.6666666666666666,\"#ed7953\"],[0.7777777777777778,\"#fb9f3a\"],[0.8888888888888888,\"#fdca26\"],[1.0,\"#f0f921\"]],\"type\":\"histogram2d\"}],\"histogram2dcontour\":[{\"colorbar\":{\"outlinewidth\":0,\"ticks\":\"\"},\"colorscale\":[[0.0,\"#0d0887\"],[0.1111111111111111,\"#46039f\"],[0.2222222222222222,\"#7201a8\"],[0.3333333333333333,\"#9c179e\"],[0.4444444444444444,\"#bd3786\"],[0.5555555555555556,\"#d8576b\"],[0.6666666666666666,\"#ed7953\"],[0.7777777777777778,\"#fb9f3a\"],[0.8888888888888888,\"#fdca26\"],[1.0,\"#f0f921\"]],\"type\":\"histogram2dcontour\"}],\"mesh3d\":[{\"colorbar\":{\"outlinewidth\":0,\"ticks\":\"\"},\"type\":\"mesh3d\"}],\"parcoords\":[{\"line\":{\"colorbar\":{\"outlinewidth\":0,\"ticks\":\"\"}},\"type\":\"parcoords\"}],\"pie\":[{\"automargin\":true,\"type\":\"pie\"}],\"scatter\":[{\"marker\":{\"colorbar\":{\"outlinewidth\":0,\"ticks\":\"\"}},\"type\":\"scatter\"}],\"scatter3d\":[{\"line\":{\"colorbar\":{\"outlinewidth\":0,\"ticks\":\"\"}},\"marker\":{\"colorbar\":{\"outlinewidth\":0,\"ticks\":\"\"}},\"type\":\"scatter3d\"}],\"scattercarpet\":[{\"marker\":{\"colorbar\":{\"outlinewidth\":0,\"ticks\":\"\"}},\"type\":\"scattercarpet\"}],\"scattergeo\":[{\"marker\":{\"colorbar\":{\"outlinewidth\":0,\"ticks\":\"\"}},\"type\":\"scattergeo\"}],\"scattergl\":[{\"marker\":{\"colorbar\":{\"outlinewidth\":0,\"ticks\":\"\"}},\"type\":\"scattergl\"}],\"scattermapbox\":[{\"marker\":{\"colorbar\":{\"outlinewidth\":0,\"ticks\":\"\"}},\"type\":\"scattermapbox\"}],\"scatterpolar\":[{\"marker\":{\"colorbar\":{\"outlinewidth\":0,\"ticks\":\"\"}},\"type\":\"scatterpolar\"}],\"scatterpolargl\":[{\"marker\":{\"colorbar\":{\"outlinewidth\":0,\"ticks\":\"\"}},\"type\":\"scatterpolargl\"}],\"scatterternary\":[{\"marker\":{\"colorbar\":{\"outlinewidth\":0,\"ticks\":\"\"}},\"type\":\"scatterternary\"}],\"surface\":[{\"colorbar\":{\"outlinewidth\":0,\"ticks\":\"\"},\"colorscale\":[[0.0,\"#0d0887\"],[0.1111111111111111,\"#46039f\"],[0.2222222222222222,\"#7201a8\"],[0.3333333333333333,\"#9c179e\"],[0.4444444444444444,\"#bd3786\"],[0.5555555555555556,\"#d8576b\"],[0.6666666666666666,\"#ed7953\"],[0.7777777777777778,\"#fb9f3a\"],[0.8888888888888888,\"#fdca26\"],[1.0,\"#f0f921\"]],\"type\":\"surface\"}],\"table\":[{\"cells\":{\"fill\":{\"color\":\"#EBF0F8\"},\"line\":{\"color\":\"white\"}},\"header\":{\"fill\":{\"color\":\"#C8D4E3\"},\"line\":{\"color\":\"white\"}},\"type\":\"table\"}]},\"layout\":{\"annotationdefaults\":{\"arrowcolor\":\"#2a3f5f\",\"arrowhead\":0,\"arrowwidth\":1},\"autotypenumbers\":\"strict\",\"coloraxis\":{\"colorbar\":{\"outlinewidth\":0,\"ticks\":\"\"}},\"colorscale\":{\"diverging\":[[0,\"#8e0152\"],[0.1,\"#c51b7d\"],[0.2,\"#de77ae\"],[0.3,\"#f1b6da\"],[0.4,\"#fde0ef\"],[0.5,\"#f7f7f7\"],[0.6,\"#e6f5d0\"],[0.7,\"#b8e186\"],[0.8,\"#7fbc41\"],[0.9,\"#4d9221\"],[1,\"#276419\"]],\"sequential\":[[0.0,\"#0d0887\"],[0.1111111111111111,\"#46039f\"],[0.2222222222222222,\"#7201a8\"],[0.3333333333333333,\"#9c179e\"],[0.4444444444444444,\"#bd3786\"],[0.5555555555555556,\"#d8576b\"],[0.6666666666666666,\"#ed7953\"],[0.7777777777777778,\"#fb9f3a\"],[0.8888888888888888,\"#fdca26\"],[1.0,\"#f0f921\"]],\"sequentialminus\":[[0.0,\"#0d0887\"],[0.1111111111111111,\"#46039f\"],[0.2222222222222222,\"#7201a8\"],[0.3333333333333333,\"#9c179e\"],[0.4444444444444444,\"#bd3786\"],[0.5555555555555556,\"#d8576b\"],[0.6666666666666666,\"#ed7953\"],[0.7777777777777778,\"#fb9f3a\"],[0.8888888888888888,\"#fdca26\"],[1.0,\"#f0f921\"]]},\"colorway\":[\"#636efa\",\"#EF553B\",\"#00cc96\",\"#ab63fa\",\"#FFA15A\",\"#19d3f3\",\"#FF6692\",\"#B6E880\",\"#FF97FF\",\"#FECB52\"],\"font\":{\"color\":\"#2a3f5f\"},\"geo\":{\"bgcolor\":\"white\",\"lakecolor\":\"white\",\"landcolor\":\"#E5ECF6\",\"showlakes\":true,\"showland\":true,\"subunitcolor\":\"white\"},\"hoverlabel\":{\"align\":\"left\"},\"hovermode\":\"closest\",\"mapbox\":{\"style\":\"light\"},\"paper_bgcolor\":\"white\",\"plot_bgcolor\":\"#E5ECF6\",\"polar\":{\"angularaxis\":{\"gridcolor\":\"white\",\"linecolor\":\"white\",\"ticks\":\"\"},\"bgcolor\":\"#E5ECF6\",\"radialaxis\":{\"gridcolor\":\"white\",\"linecolor\":\"white\",\"ticks\":\"\"}},\"scene\":{\"xaxis\":{\"backgroundcolor\":\"#E5ECF6\",\"gridcolor\":\"white\",\"gridwidth\":2,\"linecolor\":\"white\",\"showbackground\":true,\"ticks\":\"\",\"zerolinecolor\":\"white\"},\"yaxis\":{\"backgroundcolor\":\"#E5ECF6\",\"gridcolor\":\"white\",\"gridwidth\":2,\"linecolor\":\"white\",\"showbackground\":true,\"ticks\":\"\",\"zerolinecolor\":\"white\"},\"zaxis\":{\"backgroundcolor\":\"#E5ECF6\",\"gridcolor\":\"white\",\"gridwidth\":2,\"linecolor\":\"white\",\"showbackground\":true,\"ticks\":\"\",\"zerolinecolor\":\"white\"}},\"shapedefaults\":{\"line\":{\"color\":\"#2a3f5f\"}},\"ternary\":{\"aaxis\":{\"gridcolor\":\"white\",\"linecolor\":\"white\",\"ticks\":\"\"},\"baxis\":{\"gridcolor\":\"white\",\"linecolor\":\"white\",\"ticks\":\"\"},\"bgcolor\":\"#E5ECF6\",\"caxis\":{\"gridcolor\":\"white\",\"linecolor\":\"white\",\"ticks\":\"\"}},\"title\":{\"x\":0.05},\"xaxis\":{\"automargin\":true,\"gridcolor\":\"white\",\"linecolor\":\"white\",\"ticks\":\"\",\"title\":{\"standoff\":15},\"zerolinecolor\":\"white\",\"zerolinewidth\":2},\"yaxis\":{\"automargin\":true,\"gridcolor\":\"white\",\"linecolor\":\"white\",\"ticks\":\"\",\"title\":{\"standoff\":15},\"zerolinecolor\":\"white\",\"zerolinewidth\":2}}},\"xaxis\":{\"anchor\":\"y\",\"domain\":[0.0,1.0],\"title\":{\"text\":\"index\"}},\"yaxis\":{\"anchor\":\"x\",\"domain\":[0.0,1.0],\"title\":{\"text\":\"value\"}},\"legend\":{\"title\":{\"text\":\"variable\"},\"tracegroupgap\":0},\"title\":{\"text\":\"custom tick labels\"}},                        {\"responsive\": true}                    ).then(function(){\n",
              "                            \n",
              "var gd = document.getElementById('8400d16d-b50e-4f82-8fb5-e2b4d842d558');\n",
              "var x = new MutationObserver(function (mutations, observer) {{\n",
              "        var display = window.getComputedStyle(gd).display;\n",
              "        if (!display || display === 'none') {{\n",
              "            console.log([gd, 'removed!']);\n",
              "            Plotly.purge(gd);\n",
              "            observer.disconnect();\n",
              "        }}\n",
              "}});\n",
              "\n",
              "// Listen for the removal of the full notebook cells\n",
              "var notebookContainer = gd.closest('#notebook-container');\n",
              "if (notebookContainer) {{\n",
              "    x.observe(notebookContainer, {childList: true});\n",
              "}}\n",
              "\n",
              "// Listen for the clearing of the current output cell\n",
              "var outputEl = gd.closest('.output');\n",
              "if (outputEl) {{\n",
              "    x.observe(outputEl, {childList: true});\n",
              "}}\n",
              "\n",
              "                        })                };                            </script>        </div>\n",
              "</body>\n",
              "</html>"
            ]
          },
          "metadata": {}
        }
      ],
      "source": [
        "fig = px.line(new_df,\n",
        "              y=['y_real','predicted_price'],\n",
        "              title='custom tick labels')\n",
        "fig"
      ]
    }
  ],
  "metadata": {
    "hide_input": false,
    "kernelspec": {
      "display_name": "Python 3 (ipykernel)",
      "language": "python",
      "name": "python3"
    },
    "language_info": {
      "codemirror_mode": {
        "name": "ipython",
        "version": 3
      },
      "file_extension": ".py",
      "mimetype": "text/x-python",
      "name": "python",
      "nbconvert_exporter": "python",
      "pygments_lexer": "ipython3",
      "version": "3.9.7"
    },
    "toc": {
      "base_numbering": 1,
      "nav_menu": {},
      "number_sections": true,
      "sideBar": true,
      "skip_h1_title": false,
      "title_cell": "Table of Contents",
      "title_sidebar": "Contents",
      "toc_cell": false,
      "toc_position": {},
      "toc_section_display": true,
      "toc_window_display": false
    },
    "colab": {
      "provenance": [],
      "collapsed_sections": [],
      "include_colab_link": true
    },
    "accelerator": "GPU"
  },
  "nbformat": 4,
  "nbformat_minor": 5
}